{
 "cells": [
  {
   "cell_type": "code",
   "execution_count": 2,
   "metadata": {},
   "outputs": [],
   "source": [
    "import pandas as pd"
   ]
  },
  {
   "cell_type": "code",
   "execution_count": 3,
   "metadata": {},
   "outputs": [],
   "source": [
    "player = pd.read_excel(\"Data23-24/allplayeradv_23-24.xlsx\")\n",
    "player.dropna(axis = 1, inplace = True)"
   ]
  },
  {
   "cell_type": "code",
   "execution_count": 4,
   "metadata": {},
   "outputs": [
    {
     "data": {
      "text/html": [
       "<div>\n",
       "<style scoped>\n",
       "    .dataframe tbody tr th:only-of-type {\n",
       "        vertical-align: middle;\n",
       "    }\n",
       "\n",
       "    .dataframe tbody tr th {\n",
       "        vertical-align: top;\n",
       "    }\n",
       "\n",
       "    .dataframe thead th {\n",
       "        text-align: right;\n",
       "    }\n",
       "</style>\n",
       "<table border=\"1\" class=\"dataframe\">\n",
       "  <thead>\n",
       "    <tr style=\"text-align: right;\">\n",
       "      <th></th>\n",
       "      <th>Player</th>\n",
       "      <th>Tm</th>\n",
       "      <th>OBPM</th>\n",
       "      <th>DBPM</th>\n",
       "    </tr>\n",
       "  </thead>\n",
       "  <tbody>\n",
       "    <tr>\n",
       "      <th>0</th>\n",
       "      <td>Precious Achiuwa</td>\n",
       "      <td>TOT</td>\n",
       "      <td>-1.7</td>\n",
       "      <td>0.3</td>\n",
       "    </tr>\n",
       "    <tr>\n",
       "      <th>3</th>\n",
       "      <td>Bam Adebayo</td>\n",
       "      <td>MIA</td>\n",
       "      <td>0.8</td>\n",
       "      <td>1.7</td>\n",
       "    </tr>\n",
       "    <tr>\n",
       "      <th>4</th>\n",
       "      <td>Ochai Agbaji</td>\n",
       "      <td>TOT</td>\n",
       "      <td>-3.5</td>\n",
       "      <td>-0.9</td>\n",
       "    </tr>\n",
       "    <tr>\n",
       "      <th>7</th>\n",
       "      <td>Santi Aldama</td>\n",
       "      <td>MEM</td>\n",
       "      <td>-0.7</td>\n",
       "      <td>0.4</td>\n",
       "    </tr>\n",
       "    <tr>\n",
       "      <th>8</th>\n",
       "      <td>Nickeil Alexander-Walker</td>\n",
       "      <td>MIN</td>\n",
       "      <td>-1.1</td>\n",
       "      <td>1.3</td>\n",
       "    </tr>\n",
       "  </tbody>\n",
       "</table>\n",
       "</div>"
      ],
      "text/plain": [
       "                     Player   Tm  OBPM  DBPM\n",
       "0          Precious Achiuwa  TOT  -1.7   0.3\n",
       "3               Bam Adebayo  MIA   0.8   1.7\n",
       "4              Ochai Agbaji  TOT  -3.5  -0.9\n",
       "7              Santi Aldama  MEM  -0.7   0.4\n",
       "8  Nickeil Alexander-Walker  MIN  -1.1   1.3"
      ]
     },
     "execution_count": 4,
     "metadata": {},
     "output_type": "execute_result"
    }
   ],
   "source": [
    "player = player[['Player', 'Tm','OBPM','DBPM']]\n",
    "player.drop_duplicates(subset=['Player'], inplace=True)\n",
    "player.head()"
   ]
  },
  {
   "cell_type": "code",
   "execution_count": 5,
   "metadata": {},
   "outputs": [
    {
     "data": {
      "text/html": [
       "<div>\n",
       "<style scoped>\n",
       "    .dataframe tbody tr th:only-of-type {\n",
       "        vertical-align: middle;\n",
       "    }\n",
       "\n",
       "    .dataframe tbody tr th {\n",
       "        vertical-align: top;\n",
       "    }\n",
       "\n",
       "    .dataframe thead th {\n",
       "        text-align: right;\n",
       "    }\n",
       "</style>\n",
       "<table border=\"1\" class=\"dataframe\">\n",
       "  <thead>\n",
       "    <tr style=\"text-align: right;\">\n",
       "      <th></th>\n",
       "      <th>Player</th>\n",
       "      <th>Tm</th>\n",
       "      <th>OBPM</th>\n",
       "      <th>DBPM</th>\n",
       "    </tr>\n",
       "  </thead>\n",
       "  <tbody>\n",
       "    <tr>\n",
       "      <th>21</th>\n",
       "      <td>Deni Avdija</td>\n",
       "      <td>WAS</td>\n",
       "      <td>-0.7</td>\n",
       "      <td>-0.2</td>\n",
       "    </tr>\n",
       "    <tr>\n",
       "      <th>29</th>\n",
       "      <td>Patrick Baldwin Jr.</td>\n",
       "      <td>WAS</td>\n",
       "      <td>-4.0</td>\n",
       "      <td>-0.6</td>\n",
       "    </tr>\n",
       "    <tr>\n",
       "      <th>57</th>\n",
       "      <td>Jules Bernard</td>\n",
       "      <td>WAS</td>\n",
       "      <td>-0.6</td>\n",
       "      <td>-2.5</td>\n",
       "    </tr>\n",
       "    <tr>\n",
       "      <th>116</th>\n",
       "      <td>Jared Butler</td>\n",
       "      <td>WAS</td>\n",
       "      <td>-1.5</td>\n",
       "      <td>-0.5</td>\n",
       "    </tr>\n",
       "    <tr>\n",
       "      <th>129</th>\n",
       "      <td>Justin Champagnie</td>\n",
       "      <td>WAS</td>\n",
       "      <td>-1.1</td>\n",
       "      <td>-0.8</td>\n",
       "    </tr>\n",
       "    <tr>\n",
       "      <th>141</th>\n",
       "      <td>Bilal Coulibaly</td>\n",
       "      <td>WAS</td>\n",
       "      <td>-3.6</td>\n",
       "      <td>-0.5</td>\n",
       "    </tr>\n",
       "    <tr>\n",
       "      <th>156</th>\n",
       "      <td>Johnny Davis</td>\n",
       "      <td>WAS</td>\n",
       "      <td>-5.5</td>\n",
       "      <td>-1.1</td>\n",
       "    </tr>\n",
       "    <tr>\n",
       "      <th>164</th>\n",
       "      <td>Hamidou Diallo</td>\n",
       "      <td>WAS</td>\n",
       "      <td>2.7</td>\n",
       "      <td>16.0</td>\n",
       "    </tr>\n",
       "    <tr>\n",
       "      <th>236</th>\n",
       "      <td>Anthony Gill</td>\n",
       "      <td>WAS</td>\n",
       "      <td>-2.6</td>\n",
       "      <td>-1.5</td>\n",
       "    </tr>\n",
       "    <tr>\n",
       "      <th>347</th>\n",
       "      <td>Tyus Jones</td>\n",
       "      <td>WAS</td>\n",
       "      <td>1.5</td>\n",
       "      <td>-0.9</td>\n",
       "    </tr>\n",
       "    <tr>\n",
       "      <th>355</th>\n",
       "      <td>Corey Kispert</td>\n",
       "      <td>WAS</td>\n",
       "      <td>-0.2</td>\n",
       "      <td>-2.0</td>\n",
       "    </tr>\n",
       "    <tr>\n",
       "      <th>363</th>\n",
       "      <td>Kyle Kuzma</td>\n",
       "      <td>WAS</td>\n",
       "      <td>0.5</td>\n",
       "      <td>-1.6</td>\n",
       "    </tr>\n",
       "    <tr>\n",
       "      <th>506</th>\n",
       "      <td>Eugene Omoruyi</td>\n",
       "      <td>WAS</td>\n",
       "      <td>-1.9</td>\n",
       "      <td>-0.4</td>\n",
       "    </tr>\n",
       "    <tr>\n",
       "      <th>528</th>\n",
       "      <td>Jordan Poole</td>\n",
       "      <td>WAS</td>\n",
       "      <td>-2.0</td>\n",
       "      <td>-1.9</td>\n",
       "    </tr>\n",
       "    <tr>\n",
       "      <th>593</th>\n",
       "      <td>Landry Shamet</td>\n",
       "      <td>WAS</td>\n",
       "      <td>-2.7</td>\n",
       "      <td>-1.3</td>\n",
       "    </tr>\n",
       "    <tr>\n",
       "      <th>667</th>\n",
       "      <td>Tristan Vukcevic</td>\n",
       "      <td>WAS</td>\n",
       "      <td>-3.5</td>\n",
       "      <td>-0.1</td>\n",
       "    </tr>\n",
       "  </tbody>\n",
       "</table>\n",
       "</div>"
      ],
      "text/plain": [
       "                  Player   Tm  OBPM  DBPM\n",
       "21           Deni Avdija  WAS  -0.7  -0.2\n",
       "29   Patrick Baldwin Jr.  WAS  -4.0  -0.6\n",
       "57         Jules Bernard  WAS  -0.6  -2.5\n",
       "116         Jared Butler  WAS  -1.5  -0.5\n",
       "129    Justin Champagnie  WAS  -1.1  -0.8\n",
       "141      Bilal Coulibaly  WAS  -3.6  -0.5\n",
       "156         Johnny Davis  WAS  -5.5  -1.1\n",
       "164       Hamidou Diallo  WAS   2.7  16.0\n",
       "236         Anthony Gill  WAS  -2.6  -1.5\n",
       "347           Tyus Jones  WAS   1.5  -0.9\n",
       "355        Corey Kispert  WAS  -0.2  -2.0\n",
       "363           Kyle Kuzma  WAS   0.5  -1.6\n",
       "506       Eugene Omoruyi  WAS  -1.9  -0.4\n",
       "528         Jordan Poole  WAS  -2.0  -1.9\n",
       "593        Landry Shamet  WAS  -2.7  -1.3\n",
       "667     Tristan Vukcevic  WAS  -3.5  -0.1"
      ]
     },
     "execution_count": 5,
     "metadata": {},
     "output_type": "execute_result"
    }
   ],
   "source": [
    "WAS_players = player.loc[player['Tm'] == 'WAS']\n",
    "WAS_players"
   ]
  },
  {
   "cell_type": "code",
   "execution_count": 6,
   "metadata": {},
   "outputs": [
    {
     "data": {
      "application/vnd.plotly.v1+json": {
       "config": {
        "plotlyServerURL": "https://plot.ly"
       },
       "data": [
        {
         "hovertext": [
          "Precious Achiuwa",
          "Bam Adebayo",
          "Ochai Agbaji",
          "Santi Aldama",
          "Nickeil Alexander-Walker",
          "Grayson Allen",
          "Jarrett Allen",
          "Timmy Allen",
          "Jose Alvarado",
          "Kyle Anderson",
          "Giannis Antetokounmpo",
          "Thanasis Antetokounmpo",
          "Cole Anthony",
          "OG Anunoby",
          "Ryan Arcidiacono",
          "Deni Avdija",
          "Deandre Ayton",
          "Udoka Azubuike",
          "Ibou Badji",
          "Marvin Bagley III",
          "Amari Bailey",
          "Patrick Baldwin Jr.",
          "LaMelo Ball",
          "Mo Bamba",
          "Paolo Banchero",
          "Desmond Bane",
          "Dalano Banton",
          "Dominick Barlow",
          "Harrison Barnes",
          "Scottie Barnes",
          "RJ Barrett",
          "Charles Bassey",
          "Emoni Bates",
          "Keita Bates-Diop",
          "Nicolas Batum",
          "Darius Bazley",
          "Bradley Beal",
          "Malik Beasley",
          "MarJon Beauchamp",
          "Jules Bernard",
          "Dāvis Bertāns",
          "Patrick Beverley",
          "Saddiq Bey",
          "Goga Bitadze",
          "Onuralp Bitim",
          "Bismack Biyombo",
          "Anthony Black",
          "Leaky Black",
          "Buddy Boeheim",
          "Bogdan Bogdanović",
          "Bojan Bogdanović",
          "Bol Bol",
          "Marques Bolden",
          "Devin Booker",
          "Brandon Boston Jr.",
          "Chris Boucher",
          "James Bouknight",
          "Jamaree Bouyea",
          "Malaki Branham",
          "Christian Braun",
          "Mikal Bridges",
          "Miles Bridges",
          "Oshae Brissett",
          "Izaiah Brockington",
          "Malcolm Brogdon",
          "Armoni Brooks",
          "Dillon Brooks",
          "Bruce Brown",
          "Charlie Brown Jr.",
          "Greg Brown III",
          "Jaylen Brown",
          "Kendall Brown",
          "Kobe Brown",
          "Moses Brown",
          "Troy Brown Jr.",
          "Jalen Brunson",
          "Thomas Bryant",
          "Kobe Bufkin",
          "Reggie Bullock",
          "Alec Burks",
          "Jared Butler",
          "Jimmy Butler",
          "Jamal Cain",
          "Kentavious Caldwell-Pope",
          "Toumani Camara",
          "Clint Capela",
          "Jevon Carter",
          "Wendell Carter Jr.",
          "D.J. Carton",
          "Alex Caruso",
          "Colin Castleton",
          "Malcolm Cazalon",
          "Julian Champagnie",
          "Justin Champagnie",
          "Max Christie",
          "Sidy Cissoko",
          "Brandon Clarke",
          "Jordan Clarkson",
          "Nic Claxton",
          "Noah Clowney",
          "Amir Coffey",
          "John Collins",
          "Zach Collins",
          "Mike Conley",
          "Pat Connaughton",
          "Bilal Coulibaly",
          "Ricky Council IV",
          "Robert Covington",
          "Torrey Craig",
          "Jae Crowder",
          "Jalen Crutcher",
          "Cade Cunningham",
          "Seth Curry",
          "Stephen Curry",
          "Dyson Daniels",
          "Anthony Davis",
          "Johnny Davis",
          "JD Davison",
          "Dexter Dennis",
          "DeMar DeRozan",
          "Moussa Diabaté",
          "Mamadi Diakite",
          "Hamidou Diallo",
          "Gradey Dick",
          "Ousmane Dieng",
          "Spencer Dinwiddie",
          "Donte DiVincenzo",
          "Luka Dončić",
          "Luguentz Dort",
          "Ayo Dosunmu",
          "Jeff Dowtin",
          "Henri Drell",
          "Andre Drummond",
          "Chris Duarte",
          "David Duke Jr.",
          "Kris Dunn",
          "Kevin Durant",
          "Jalen Duren",
          "Tari Eason",
          "Anthony Edwards",
          "Kessler Edwards",
          "Keon Ellis",
          "Joel Embiid",
          "Drew Eubanks",
          "Tosan Evbuomwan",
          "Dante Exum",
          "Bruno Fernando",
          "Dorian Finney-Smith",
          "Adam Flagler",
          "Malachi Flynn",
          "Simone Fontecchio",
          "Jordan Ford",
          "Trent Forrest",
          "Evan Fournier",
          "De'Aaron Fox",
          "Javon Freeman-Liberty",
          "Alex Fudge",
          "Markelle Fultz",
          "Andrew Funk",
          "Wenyen Gabriel",
          "Daniel Gafford",
          "Danilo Gallinari",
          "Darius Garland",
          "Usman Garuba",
          "Luka Garza",
          "Kaiser Gates",
          "Keyonte George",
          "Paul George",
          "Taj Gibson",
          "Josh Giddey",
          "Harry Giles",
          "Shai Gilgeous-Alexander",
          "Anthony Gill",
          "Collin Gillespie",
          "Jacob Gilyard",
          "Rudy Gobert",
          "Jordan Goodwin",
          "Aaron Gordon",
          "Eric Gordon",
          "Devonte' Graham",
          "Jerami Grant",
          "RaiQuan Gray",
          "A.J. Green",
          "Danny Green",
          "Draymond Green",
          "Jalen Green",
          "Javonte Green",
          "Jeff Green",
          "Josh Green",
          "AJ Griffin",
          "Quentin Grimes",
          "Mouhamadou Gueye",
          "Mouhamed Gueye",
          "Rui Hachimura",
          "Ashton Hagans",
          "Tyrese Haliburton",
          "R.J. Hampton",
          "Tim Hardaway Jr.",
          "James Harden",
          "Jaden Hardy",
          "Ron Harper Jr.",
          "Gary Harris",
          "Joe Harris",
          "Kevon Harris",
          "Tobias Harris",
          "Shaquille Harrison",
          "Josh Hart",
          "Isaiah Hartenstein",
          "Sam Hauser",
          "Jordan Hawkins",
          "Jaxson Hayes",
          "Killian Hayes",
          "Gordon Hayward",
          "Scoot Henderson",
          "Taylor Hendricks",
          "Tyler Herro",
          "Buddy Hield",
          "Haywood Highsmith",
          "Nate Hinton",
          "D'Moi Hodge",
          "Aaron Holiday",
          "Jrue Holiday",
          "Justin Holiday",
          "Richaun Holmes",
          "Chet Holmgren",
          "Jalen Hood-Schifino",
          "Al Horford",
          "Talen Horton-Tucker",
          "Danuel House Jr.",
          "Caleb Houstan",
          "Jett Howard",
          "Kevin Huerter",
          "Jay Huff",
          "De'Andre Hunter",
          "Matthew Hurt",
          "Bones Hyland",
          "Joe Ingles",
          "Brandon Ingram",
          "Kyrie Irving",
          "Jonathan Isaac",
          "Jaden Ivey",
          "Andre Jackson Jr.",
          "GG Jackson II",
          "Isaiah Jackson",
          "Jaren Jackson Jr.",
          "Justin Jackson",
          "Quenton Jackson",
          "Reggie Jackson",
          "Trayce Jackson-Davis",
          "LeBron James",
          "Jaime Jaquez Jr.",
          "DeJon Jarreau",
          "DaQuan Jeffries",
          "Trey Jemison",
          "Ty Jerome",
          "Isaiah Joe",
          "Cameron Johnson",
          "Jalen Johnson",
          "James Johnson",
          "Keldon Johnson",
          "Keon Johnson",
          "Keyontae Johnson",
          "Nikola Jokić",
          "Colby Jones",
          "Damian Jones",
          "Derrick Jones Jr.",
          "Herbert Jones",
          "Mason Jones",
          "Tre Jones",
          "Tyus Jones",
          "DeAndre Jordan",
          "Cory Joseph",
          "Nikola Jović",
          "Johnny Juzang",
          "Luke Kennard",
          "Walker Kessler",
          "Braxton Key",
          "Corey Kispert",
          "Maxi Kleber",
          "Kevin Knox",
          "John Konchar",
          "Furkan Korkmaz",
          "Luke Kornet",
          "Vit Krejci",
          "Jonathan Kuminga",
          "Kyle Kuzma",
          "Jock Landale",
          "Jake LaRavia",
          "Zach LaVine",
          "A.J. Lawson",
          "Saben Lee",
          "Alex Len",
          "Kawhi Leonard",
          "Caris LeVert",
          "Kira Lewis Jr.",
          "Maxwell Lewis",
          "E.J. Liddell",
          "Damian Lillard",
          "Nassir Little",
          "Dereck Lively II",
          "Isaiah Livers",
          "Chris Livingston",
          "Kenneth Lofton Jr.",
          "Kevon Looney",
          "Brook Lopez",
          "Robin Lopez",
          "Kevin Love",
          "Kyle Lowry",
          "Seth Lundy",
          "Trey Lyles",
          "Théo Maledon",
          "Sandro Mamukelashvili",
          "Terance Mann",
          "Tre Mann",
          "Boban Marjanović",
          "Lauri Markkanen",
          "Naji Marshall",
          "Caleb Martin",
          "Cody Martin",
          "KJ Martin",
          "Garrison Mathews",
          "Bennedict Mathurin",
          "Wesley Matthews",
          "Tyrese Maxey",
          "Skylar Mays",
          "Miles McBride",
          "CJ McCollum",
          "T.J. McConnell",
          "Jaden McDaniels",
          "Jalen McDaniels",
          "Doug McDermott",
          "JaVale McGee",
          "Bryce McGowens",
          "Jordan McLaughlin",
          "De'Anthony Melton",
          "Nathan Mensah",
          "Sam Merrill",
          "Chimezie Metu",
          "Vasilije Micić",
          "Khris Middleton",
          "Brandon Miller",
          "Jordan Miller",
          "Leonard Miller",
          "Dariq Whitehead",
          "Patty Mills",
          "Shake Milton",
          "Justin Minaya",
          "Josh Minott",
          "Davion Mitchell",
          "Donovan Mitchell",
          "Evan Mobley",
          "Isaiah Mobley",
          "Malik Monk",
          "Moses Moody",
          "Xavier Moon",
          "Taze Moore",
          "Wendell Moore Jr.",
          "Ja Morant",
          "Marcus Morris",
          "Markieff Morris",
          "Monte Morris",
          "Trey Murphy III",
          "Dejounte Murray",
          "Jamal Murray",
          "Keegan Murray",
          "Kris Murray",
          "Mike Muscala",
          "Svi Mykhailiuk",
          "Larry Nance Jr.",
          "Pete Nance",
          "Andrew Nembhard",
          "Aaron Nesmith",
          "Georges Niang",
          "Daishen Nix",
          "Zeke Nnaji",
          "Jaylen Nowell",
          "Markquis Nowell",
          "Frank Ntilikina",
          "Jusuf Nurkić",
          "Jordan Nwora",
          "Royce O'Neale",
          "Chuma Okeke",
          "Josh Okogie",
          "Onyeka Okongwu",
          "Isaac Okoro",
          "Kelly Olynyk",
          "Eugene Omoruyi",
          "Cedi Osman",
          "Kelly Oubre Jr.",
          "Chris Paul",
          "Cameron Payne",
          "Gary Payton II",
          "Mãozinha Pereira",
          "Drew Peterson",
          "Filip Petrušev",
          "Julian Phillips",
          "Jalen Pickett",
          "Scotty Pippen Jr.",
          "Mason Plumlee",
          "Brandin Podziemski",
          "Jakob Poeltl",
          "Aleksej Pokusevski",
          "Jordan Poole",
          "Craig Porter Jr.",
          "Jontay Porter",
          "Michael Porter Jr.",
          "Otto Porter Jr.",
          "Bobby Portis",
          "Kristaps Porziņģis",
          "Micah Potter",
          "Dwight Powell",
          "Norman Powell",
          "Jason Preston",
          "Joshua Primo",
          "Taurean Prince",
          "Payton Pritchard",
          "Olivier-Maxence Prosper",
          "Trevelin Queen",
          "Neemias Queta",
          "Immanuel Quickley",
          "Lester Quinones",
          "Jahmi'us Ramsey",
          "Julius Randle",
          "Duop Reath",
          "Austin Reaves",
          "Cam Reddish",
          "Paul Reed",
          "Naz Reid",
          "Jared Rhoden",
          "Nick Richards",
          "Josh Richardson",
          "Duncan Robinson",
          "Jerome Robinson",
          "Mitchell Robinson",
          "Orlando Robinson",
          "Jeremiah Robinson-Earl",
          "David Roddy",
          "Ryan Rollins",
          "Derrick Rose",
          "Terry Rozier",
          "Rayan Rupert",
          "D'Angelo Russell",
          "Matt Ryan",
          "Domantas Sabonis",
          "Luka Šamanić",
          "Jermaine Samuels",
          "Adama Sanogo",
          "Gui Santos",
          "Dario Šarić",
          "Olivier Sarr",
          "Marcus Sasser",
          "Admiral Schofield",
          "Dennis Schröder",
          "Dereon Seabron",
          "Alperen Sengun",
          "Brice Sensabaugh",
          "Collin Sexton",
          "Landry Shamet",
          "Day'Ron Sharpe",
          "Shaedon Sharpe",
          "Ben Sheppard",
          "Pascal Siakam",
          "Ben Simmons",
          "Kobi Simmons",
          "Anfernee Simons",
          "Zavier Simpson",
          "Jericho Sims",
          "Dmytro Skapintsev",
          "Jalen Slawson",
          "Javonte Smart",
          "Marcus Smart",
          "Dennis Smith Jr.",
          "Dru Smith",
          "Ish Smith",
          "Jabari Smith Jr.",
          "Jalen Smith",
          "Nick Smith Jr.",
          "Terquavion Smith",
          "Jeremy Sochan",
          "Pat Spencer",
          "Jaden Springer",
          "Lamar Stevens",
          "Isaiah Stewart",
          "Julian Strawther",
          "Max Strus",
          "Jalen Suggs",
          "Cole Swider",
          "Jae'Sean Tate",
          "Jayson Tatum",
          "Terry Taylor",
          "Garrett Temple",
          "Dalen Terry",
          "Daniel Theis",
          "Cam Thomas",
          "Isaiah Thomas",
          "Amen Thompson",
          "Ausar Thompson",
          "Klay Thompson",
          "Tristan Thompson",
          "JT Thor",
          "Matisse Thybulle",
          "Xavier Tillman Sr.",
          "Jacob Toppin",
          "Obi Toppin",
          "Juan Toscano-Anderson",
          "Karl-Anthony Towns",
          "Gary Trent Jr.",
          "Oscar Tshiebwe",
          "P.J. Tucker",
          "Myles Turner",
          "Hunter Tyson",
          "Stanley Umude",
          "Jonas Valančiūnas",
          "Jarred Vanderbilt",
          "Fred VanVleet",
          "Devin Vassell",
          "Sasha Vezenkov",
          "Gabe Vincent",
          "Nikola Vučević",
          "Tristan Vukcevic",
          "Dean Wade",
          "Franz Wagner",
          "Moritz Wagner",
          "Ish Wainright",
          "Jabari Walker",
          "Jarace Walker",
          "Lonnie Walker IV",
          "Cason Wallace",
          "Jordan Walsh",
          "T.J. Warren",
          "P.J. Washington",
          "TyTy Washington Jr.",
          "Yuta Watanabe",
          "Lindy Waters III",
          "Trendon Watford",
          "Peyton Watson",
          "Victor Wembanyama",
          "Blake Wesley",
          "Russell Westbrook",
          "Coby White",
          "Derrick White",
          "Jack White",
          "Cam Whitmore",
          "Aaron Wiggins",
          "Andrew Wiggins",
          "Lindell Wigginton",
          "Alondes Williams",
          "Brandon Williams",
          "Grant Williams",
          "Jalen Williams",
          "Jaylin Williams",
          "Jeenathan Williams",
          "Kenrich Williams",
          "Malik Williams",
          "Mark Williams",
          "Patrick Williams",
          "Robert Williams",
          "Vince Williams Jr.",
          "Ziaire Williams",
          "Zion Williamson",
          "D.J. Wilson",
          "Jalen Wilson",
          "Dylan Windler",
          "James Wiseman",
          "Isaiah Wong",
          "Christian Wood",
          "Delon Wright",
          "Thaddeus Young",
          "Trae Young",
          "Omer Yurtseven",
          "Cody Zeller",
          "Ivica Zubac"
         ],
         "marker": {
          "color": "blue"
         },
         "mode": "markers",
         "name": "All Players",
         "type": "scatter",
         "x": [
          -1.7,
          0.8,
          -3.5,
          -0.7,
          -1.1,
          1.1,
          2.1,
          -10.3,
          -1.5,
          -1.6,
          6.7,
          -6.7,
          -0.6,
          -1,
          -11.5,
          -0.7,
          0.5,
          -3,
          -7.7,
          1,
          -5.2,
          -4,
          3.8,
          -2.3,
          1.3,
          3.1,
          -0.7,
          -1.7,
          -0.6,
          2.9,
          0.7,
          -1.8,
          -6.2,
          -1.5,
          -1.3,
          -0.9,
          0.9,
          -1,
          -2.3,
          -0.6,
          -0.8,
          -1.5,
          0.1,
          -0.7,
          -5.4,
          -4.8,
          -3.8,
          -2.6,
          -0.7,
          0.9,
          -0.7,
          1.4,
          -2.1,
          4,
          -6.2,
          -0.3,
          4.4,
          -10.2,
          -3.4,
          -1.7,
          0.7,
          0.2,
          -2,
          -9.2,
          2.7,
          -2.2,
          -3.3,
          -2.4,
          -10.2,
          -5,
          0.9,
          -4.2,
          -4,
          -4.1,
          -2.8,
          6.3,
          -0.6,
          -4.3,
          -2.9,
          -0.3,
          -1.5,
          3.9,
          -2.5,
          -2.1,
          -3.1,
          1,
          -3.3,
          0.5,
          -4.2,
          0.2,
          -3.9,
          -6,
          -1.8,
          -1.1,
          -3.2,
          -4,
          0.7,
          -1.3,
          -0.3,
          -0.8,
          -1.9,
          0.5,
          -2,
          2,
          -1.6,
          -3.6,
          2.1,
          -1.1,
          -1.8,
          -2.6,
          -18.5,
          2,
          -2.6,
          6.3,
          -1.9,
          3.5,
          -5.5,
          1.8,
          1.7,
          2.1,
          4,
          0.8,
          2.7,
          -3.2,
          -2.3,
          -1.3,
          2.5,
          8.3,
          -1.4,
          -0.6,
          2,
          -5.1,
          0.8,
          -3.5,
          -0.1,
          -1.5,
          4,
          -0.2,
          -0.4,
          2.7,
          -1.6,
          -0.9,
          8.5,
          -2,
          -2.4,
          -0.3,
          -3.1,
          -2,
          -6.7,
          -2,
          0,
          3.3,
          -3.8,
          -4.7,
          2.6,
          -3.1,
          -3.7,
          -2.6,
          -12.4,
          -10.6,
          0.7,
          -0.8,
          0.2,
          -10.8,
          0.6,
          -18.6,
          -1.5,
          2.9,
          -5.3,
          1,
          -2.7,
          6.7,
          -2.6,
          -3.7,
          -2,
          0.1,
          -1.5,
          1.2,
          -1.3,
          -3,
          1,
          5.6,
          -0.4,
          -7.4,
          -0.6,
          0.4,
          1.9,
          -1.6,
          -2.4,
          -6,
          -2.6,
          -11,
          -2.1,
          0,
          -4.4,
          7.3,
          -8.1,
          -0.8,
          3.8,
          -2,
          -11.7,
          -2.3,
          -4.7,
          -15.5,
          1,
          -0.7,
          -1.3,
          0.7,
          1.2,
          -1.3,
          -2.8,
          -2.9,
          -1.6,
          -3.5,
          -1.3,
          1.5,
          1,
          -1.8,
          1.9,
          -3.7,
          -1.8,
          1,
          -2.5,
          -2.4,
          1.8,
          -12.4,
          1.7,
          -0.9,
          -3.4,
          -1.4,
          -1.4,
          -0.5,
          -0.3,
          -0.9,
          -3,
          -2.8,
          -1.7,
          1.4,
          4.8,
          1.4,
          -1.4,
          -3.6,
          -0.2,
          0.3,
          0,
          -6.3,
          -3.5,
          -1.8,
          1.5,
          5.5,
          -2.2,
          -4.6,
          -5.6,
          -4.7,
          -4.1,
          1.1,
          0.9,
          0.4,
          -8,
          -0.3,
          -1.6,
          -7.5,
          9,
          -5.4,
          -1.7,
          -1.3,
          -0.9,
          -5.4,
          -0.4,
          1.5,
          -1.7,
          -4,
          -0.9,
          -1.5,
          0.6,
          -0.4,
          0.5,
          -0.2,
          -2.3,
          -2.8,
          -2.6,
          -3.2,
          1.6,
          -3.3,
          0,
          0.5,
          -0.5,
          -1.4,
          0.8,
          -3.1,
          -2,
          -2.7,
          4.8,
          -0.6,
          -4.4,
          -10.3,
          -8.7,
          3.4,
          -2.4,
          -0.3,
          -5,
          -7,
          -0.6,
          -0.8,
          0.2,
          -4.7,
          2.7,
          -1.9,
          -7.7,
          -0.4,
          -8.3,
          -0.1,
          -0.8,
          -1.7,
          0.2,
          5.1,
          -1.3,
          -2.2,
          -4.1,
          -4,
          -2.1,
          -1.2,
          -3.1,
          4.1,
          -2.1,
          -0.4,
          3.3,
          2.9,
          -3.3,
          -7.2,
          -1.5,
          -1.9,
          -3.7,
          1.4,
          -0.7,
          -8.7,
          1.3,
          -2.1,
          -2.5,
          1.1,
          -0.9,
          0.4,
          5.9,
          -5.5,
          -5,
          -4.3,
          -5.1,
          1.8,
          -2.4,
          4.6,
          0.9,
          -4.5,
          1.5,
          -0.2,
          -4.7,
          -2.5,
          -6.1,
          2.7,
          -2.5,
          -4,
          -0.8,
          2.5,
          2.3,
          4.5,
          -0.4,
          -3.5,
          -3.9,
          -0.9,
          -0.2,
          -11.9,
          -1.6,
          -0.3,
          -2.5,
          -2.8,
          -3.8,
          -4.1,
          29.1,
          -10,
          -1,
          -1.1,
          -1,
          -3.2,
          -1.3,
          0,
          -1.8,
          0.7,
          -1.9,
          -1.7,
          -1.5,
          -0.2,
          -0.5,
          -1.3,
          -1.2,
          3.8,
          -4.7,
          -4.7,
          -2.7,
          -0.1,
          -1.1,
          -0.5,
          -0.3,
          -1.8,
          -2,
          -0.6,
          -0.3,
          1.2,
          -3.5,
          0,
          3.5,
          -1.4,
          -1.1,
          0.4,
          -2.5,
          -16.8,
          -2.6,
          1.3,
          -1.7,
          -4.7,
          0.4,
          2.2,
          -2,
          -3.9,
          2.2,
          -0.2,
          0.9,
          -4,
          -0.6,
          0.4,
          -2.9,
          -1.6,
          -1.3,
          -0.5,
          -6.1,
          -0.3,
          -1.9,
          -1.9,
          -4,
          0.6,
          -1.3,
          2.2,
          -5.6,
          1.7,
          -1.4,
          4,
          -4.9,
          -0.3,
          -0.4,
          0,
          0.6,
          -2.6,
          -1.5,
          -4.1,
          -0.5,
          -2.7,
          3.1,
          -3.3,
          3.8,
          -2.7,
          -0.4,
          -1.9,
          -3.3,
          2.6,
          -0.5,
          -2.6,
          2.7,
          -6.2,
          -2.4,
          -16,
          -7.5,
          -6.2,
          -3.3,
          -2.6,
          -1.8,
          -5.6,
          -0.5,
          3.2,
          -3.1,
          0.3,
          -2.8,
          -3.4,
          -4.9,
          -2.2,
          -1.6,
          -4.6,
          -1.1,
          -0.6,
          -2.1,
          -3.7,
          4.5,
          -3.1,
          -3.4,
          -3.4,
          -1.7,
          0.7,
          -1.6,
          -0.1,
          -2.8,
          1.1,
          -2.1,
          -3.5,
          -2.8,
          -3.1,
          0.6,
          1.8,
          -8.7,
          1.6,
          -1.2,
          4.5,
          -4,
          1,
          -6.8,
          -1.5,
          0.7,
          -2.9,
          2.6,
          0.9,
          -0.2,
          -6.9,
          0.8,
          -3.5,
          -1.7,
          0.9,
          1.7,
          -2.9,
          -2.4,
          -0.5,
          -0.4,
          -0.9,
          -5.6,
          -5,
          -1.7,
          -7.1,
          -5.3,
          2.4,
          -0.9,
          -3,
          1.9,
          -4,
          -0.2,
          0.7,
          2.4,
          -9.1,
          1,
          0.4,
          -1.4,
          -14.6,
          -17.8,
          -2.7,
          -1.9,
          2,
          -0.8,
          -0.8,
          -1.1,
          -7.8,
          1.6,
          -2.1,
          -2.2,
          -1.7,
          -4,
          3.3,
          15.5,
          -1.8,
          1.7,
          -2.6,
          -11.3,
          -2.6,
          -2,
          -0.5,
          4.9,
          -1.6,
          -2.9,
          0.8
         ],
         "y": [
          0.3,
          1.7,
          -0.9,
          0.4,
          1.3,
          0.1,
          0.9,
          -0.7,
          1.5,
          2.7,
          2.4,
          0.3,
          0.7,
          0.5,
          1.9,
          -0.2,
          -0.2,
          -0.1,
          1.9,
          -1.4,
          -3.1,
          -0.6,
          -0.5,
          1.4,
          0,
          -0.3,
          -0.6,
          0,
          -1.2,
          0.8,
          -1.5,
          3.1,
          -3,
          0.4,
          0.8,
          0.5,
          -0.6,
          -0.8,
          -0.9,
          -2.5,
          -0.6,
          0.5,
          -2,
          2.8,
          -2,
          1.4,
          0.8,
          0.3,
          -2.8,
          -0.7,
          -2.5,
          0.8,
          -0.5,
          -1,
          -2.7,
          -1.4,
          -2.2,
          -2,
          -2.2,
          -0.2,
          -1,
          -1.3,
          0.2,
          -8.5,
          -0.7,
          -3.7,
          -0.3,
          -1,
          -3.4,
          0.6,
          -0.1,
          -2.6,
          0.2,
          -2.4,
          0.2,
          -0.4,
          0.2,
          -0.2,
          0.5,
          -2,
          -0.5,
          0.7,
          0.2,
          0.7,
          0,
          -1,
          -0.7,
          0.4,
          -1.1,
          2.3,
          -1.4,
          -3.2,
          -0.1,
          -0.8,
          -0.4,
          1.4,
          0.3,
          -3.2,
          1.5,
          0.1,
          -0.3,
          -1.4,
          -0.1,
          1.4,
          0,
          -0.5,
          -0.8,
          3.2,
          -0.2,
          0,
          -7.8,
          -1.6,
          -0.6,
          -1.1,
          2.5,
          1.7,
          -1.1,
          1.4,
          -0.1,
          -0.3,
          -0.5,
          2.7,
          16,
          -2.2,
          -0.7,
          -0.6,
          0.9,
          1.7,
          -0.2,
          -0.2,
          1.3,
          0.2,
          -0.7,
          0.1,
          1.4,
          1.4,
          0.1,
          0.1,
          2,
          0.5,
          0.1,
          2.1,
          3.1,
          0.8,
          -0.7,
          -0.3,
          0.9,
          -0.1,
          -3.9,
          -0.2,
          -1,
          -1.1,
          -0.7,
          0.3,
          0.1,
          -2,
          -1.5,
          1.2,
          -2,
          -1.9,
          1.9,
          -1,
          -1.2,
          -0.1,
          -2.7,
          -10.1,
          -2.9,
          0.2,
          0.1,
          0.4,
          -2,
          2.3,
          -1.5,
          0.9,
          0.6,
          1.7,
          0.5,
          0.1,
          -0.5,
          -0.9,
          -1.1,
          1.8,
          -1.7,
          0.8,
          3,
          -0.9,
          0.1,
          -0.4,
          -0.3,
          -3.5,
          0.4,
          -0.9,
          0.6,
          -0.9,
          0.9,
          -0.4,
          -1.4,
          -2.1,
          0.3,
          -2.1,
          2.8,
          1.1,
          -1.1,
          -0.3,
          -0.1,
          5.2,
          1.4,
          2.8,
          0,
          -1.7,
          0.9,
          0.2,
          -0.5,
          -2.3,
          -0.4,
          -0.7,
          -0.6,
          1.1,
          1.7,
          -2.6,
          0.3,
          1.1,
          0.9,
          -0.8,
          1.5,
          -3.7,
          2,
          -0.4,
          -0.5,
          -0.5,
          -0.3,
          -0.4,
          1.6,
          -1.5,
          -0.7,
          -0.8,
          1.2,
          -0.3,
          0.1,
          2.4,
          -1.7,
          0,
          -1.8,
          1.4,
          0.4,
          -1.2,
          6.8,
          -1.5,
          1.2,
          0.9,
          0.3,
          0.7,
          -2.5,
          -0.4,
          -0.8,
          -0.3,
          -0.5,
          0.8,
          2.2,
          -1.4,
          -1.1,
          -2.2,
          4.2,
          0.4,
          1.2,
          -0.3,
          1.5,
          0,
          0.1,
          -0.9,
          -0.1,
          -0.7,
          1.3,
          -2.2,
          -0.9,
          1.3,
          1.6,
          -2,
          1,
          -1.8,
          2.2,
          0.4,
          1.8,
          -0.4,
          -0.4,
          -1.6,
          0.4,
          -1,
          -0.7,
          -1.5,
          0.6,
          2.9,
          0.6,
          0.8,
          -1.4,
          -3.2,
          4,
          -1.3,
          -0.6,
          0.8,
          -1.5,
          -1,
          0.3,
          1.4,
          0.8,
          -1.4,
          1,
          0.9,
          -5,
          -0.7,
          -2.1,
          -0.4,
          -0.7,
          0.4,
          -0.5,
          -1.5,
          0.5,
          0.2,
          0.6,
          -0.1,
          -0.9,
          -2.3,
          0.3,
          -1,
          0.1,
          0.4,
          -0.3,
          0.1,
          0.7,
          -1.8,
          -1.9,
          0.6,
          -1.1,
          2.9,
          1.2,
          -0.1,
          -0.8,
          0.8,
          -2.2,
          0,
          -1.6,
          -4.2,
          3.7,
          -2.4,
          0.4,
          0.6,
          -0.5,
          3.3,
          -1,
          1.2,
          2,
          -2.1,
          -1,
          0.1,
          -1.4,
          -0.6,
          3.3,
          0.4,
          -1.3,
          -1.3,
          1.5,
          0,
          -0.6,
          -0.4,
          -0.5,
          -0.2,
          -1.4,
          -0.9,
          2.2,
          -3.2,
          -0.5,
          -0.2,
          -0.4,
          1.4,
          0.1,
          -1.4,
          14.2,
          -3.4,
          2.1,
          -1.5,
          1,
          -0.2,
          0.8,
          -0.5,
          0.7,
          1.1,
          -0.4,
          -0.3,
          -0.7,
          1.2,
          -0.6,
          2.2,
          0.7,
          1.6,
          -3.3,
          -0.6,
          -0.5,
          1.4,
          0.4,
          0.4,
          1,
          -0.1,
          -1.9,
          1.1,
          1.9,
          -1.2,
          0.3,
          -0.8,
          1.6,
          -0.9,
          0.8,
          -1.2,
          -0.1,
          -8.2,
          -0.2,
          -0.2,
          -1.3,
          1.4,
          1.1,
          -0.9,
          -1.3,
          -0.5,
          -0.3,
          -0.7,
          -0.4,
          0.8,
          1,
          1.1,
          0.4,
          -0.7,
          0,
          -0.4,
          -2.2,
          0.4,
          0.8,
          -0.3,
          -1,
          5.1,
          -1.5,
          -0.7,
          -1.2,
          -0.8,
          -1.3,
          2.4,
          -2.9,
          1.1,
          -6.3,
          -0.5,
          0.4,
          -0.1,
          -1.1,
          -0.8,
          -1.3,
          1.2,
          1.7,
          -2.1,
          -1.9,
          -1.3,
          0.4,
          -0.9,
          -0.1,
          -0.7,
          2.9,
          1.6,
          -2.5,
          0.3,
          0.7,
          -9.8,
          1.1,
          -2.1,
          0.9,
          1.8,
          3.2,
          -1.2,
          0.1,
          -0.8,
          -2.8,
          0.5,
          -0.6,
          -3.1,
          1.5,
          -0.1,
          -0.7,
          -1.4,
          0.5,
          1.6,
          -2.4,
          1.5,
          0.6,
          -0.1,
          -1.2,
          1.1,
          0.1,
          -1.9,
          -5.2,
          1.9,
          0.6,
          -1.5,
          0.6,
          -1.1,
          3.4,
          1.9,
          -1.3,
          -0.3,
          -0.6,
          0.9,
          -1.4,
          -2.3,
          0.4,
          -0.1,
          -2.1,
          -0.1,
          0.5,
          1.3,
          0.8,
          -0.9,
          -0.7,
          0.4,
          -0.7,
          -0.1,
          1.8,
          0.3,
          0.3,
          0.5,
          -0.9,
          0.7,
          -1,
          1,
          1.8,
          0.5,
          -0.4,
          -1,
          -1.1,
          -0.5,
          0.4,
          0.8,
          3.3,
          0.1,
          0.7,
          -1.3,
          1.4,
          -1.2,
          -0.9,
          0.4,
          -1.2,
          -9.2,
          -5.4,
          -2.8,
          -0.7,
          0.3,
          1.9,
          -0.8,
          0.3,
          -3.7,
          -0.8,
          -0.1,
          2.9,
          1,
          -0.4,
          0.6,
          7,
          -1.1,
          -1,
          -0.9,
          -7.7,
          -0.2,
          2.5,
          0.8,
          -2.3,
          -1.5,
          0.3,
          0
         ]
        },
        {
         "hovertext": "Deni Avdija",
         "marker": {
          "color": "red"
         },
         "mode": "markers",
         "name": "Deni Avdija",
         "type": "scatter",
         "x": [
          -0.7
         ],
         "y": [
          -0.2
         ]
        },
        {
         "hovertext": "Patrick Baldwin Jr.",
         "marker": {
          "color": "red"
         },
         "mode": "markers",
         "name": "Patrick Baldwin Jr.",
         "type": "scatter",
         "x": [
          -4
         ],
         "y": [
          -0.6
         ]
        },
        {
         "hovertext": "Jules Bernard",
         "marker": {
          "color": "red"
         },
         "mode": "markers",
         "name": "Jules Bernard",
         "type": "scatter",
         "x": [
          -0.6
         ],
         "y": [
          -2.5
         ]
        },
        {
         "hovertext": "Jared Butler",
         "marker": {
          "color": "red"
         },
         "mode": "markers",
         "name": "Jared Butler",
         "type": "scatter",
         "x": [
          -1.5
         ],
         "y": [
          -0.5
         ]
        },
        {
         "hovertext": "Justin Champagnie",
         "marker": {
          "color": "red"
         },
         "mode": "markers",
         "name": "Justin Champagnie",
         "type": "scatter",
         "x": [
          -1.1
         ],
         "y": [
          -0.8
         ]
        },
        {
         "hovertext": "Bilal Coulibaly",
         "marker": {
          "color": "red"
         },
         "mode": "markers",
         "name": "Bilal Coulibaly",
         "type": "scatter",
         "x": [
          -3.6
         ],
         "y": [
          -0.5
         ]
        },
        {
         "hovertext": "Johnny Davis",
         "marker": {
          "color": "red"
         },
         "mode": "markers",
         "name": "Johnny Davis",
         "type": "scatter",
         "x": [
          -5.5
         ],
         "y": [
          -1.1
         ]
        },
        {
         "hovertext": "Hamidou Diallo",
         "marker": {
          "color": "red"
         },
         "mode": "markers",
         "name": "Hamidou Diallo",
         "type": "scatter",
         "x": [
          2.7
         ],
         "y": [
          16
         ]
        },
        {
         "hovertext": "Anthony Gill",
         "marker": {
          "color": "red"
         },
         "mode": "markers",
         "name": "Anthony Gill",
         "type": "scatter",
         "x": [
          -2.6
         ],
         "y": [
          -1.5
         ]
        },
        {
         "hovertext": "Tyus Jones",
         "marker": {
          "color": "red"
         },
         "mode": "markers",
         "name": "Tyus Jones",
         "type": "scatter",
         "x": [
          1.5
         ],
         "y": [
          -0.9
         ]
        },
        {
         "hovertext": "Corey Kispert",
         "marker": {
          "color": "red"
         },
         "mode": "markers",
         "name": "Corey Kispert",
         "type": "scatter",
         "x": [
          -0.2
         ],
         "y": [
          -2
         ]
        },
        {
         "hovertext": "Kyle Kuzma",
         "marker": {
          "color": "red"
         },
         "mode": "markers",
         "name": "Kyle Kuzma",
         "type": "scatter",
         "x": [
          0.5
         ],
         "y": [
          -1.6
         ]
        },
        {
         "hovertext": "Eugene Omoruyi",
         "marker": {
          "color": "red"
         },
         "mode": "markers",
         "name": "Eugene Omoruyi",
         "type": "scatter",
         "x": [
          -1.9
         ],
         "y": [
          -0.4
         ]
        },
        {
         "hovertext": "Jordan Poole",
         "marker": {
          "color": "red"
         },
         "mode": "markers",
         "name": "Jordan Poole",
         "type": "scatter",
         "x": [
          -2
         ],
         "y": [
          -1.9
         ]
        },
        {
         "hovertext": "Landry Shamet",
         "marker": {
          "color": "red"
         },
         "mode": "markers",
         "name": "Landry Shamet",
         "type": "scatter",
         "x": [
          -2.7
         ],
         "y": [
          -1.3
         ]
        },
        {
         "hovertext": "Tristan Vukcevic",
         "marker": {
          "color": "red"
         },
         "mode": "markers",
         "name": "Tristan Vukcevic",
         "type": "scatter",
         "x": [
          -3.5
         ],
         "y": [
          -0.1
         ]
        }
       ],
       "layout": {
        "template": {
         "data": {
          "bar": [
           {
            "error_x": {
             "color": "#2a3f5f"
            },
            "error_y": {
             "color": "#2a3f5f"
            },
            "marker": {
             "line": {
              "color": "#E5ECF6",
              "width": 0.5
             },
             "pattern": {
              "fillmode": "overlay",
              "size": 10,
              "solidity": 0.2
             }
            },
            "type": "bar"
           }
          ],
          "barpolar": [
           {
            "marker": {
             "line": {
              "color": "#E5ECF6",
              "width": 0.5
             },
             "pattern": {
              "fillmode": "overlay",
              "size": 10,
              "solidity": 0.2
             }
            },
            "type": "barpolar"
           }
          ],
          "carpet": [
           {
            "aaxis": {
             "endlinecolor": "#2a3f5f",
             "gridcolor": "white",
             "linecolor": "white",
             "minorgridcolor": "white",
             "startlinecolor": "#2a3f5f"
            },
            "baxis": {
             "endlinecolor": "#2a3f5f",
             "gridcolor": "white",
             "linecolor": "white",
             "minorgridcolor": "white",
             "startlinecolor": "#2a3f5f"
            },
            "type": "carpet"
           }
          ],
          "choropleth": [
           {
            "colorbar": {
             "outlinewidth": 0,
             "ticks": ""
            },
            "type": "choropleth"
           }
          ],
          "contour": [
           {
            "colorbar": {
             "outlinewidth": 0,
             "ticks": ""
            },
            "colorscale": [
             [
              0,
              "#0d0887"
             ],
             [
              0.1111111111111111,
              "#46039f"
             ],
             [
              0.2222222222222222,
              "#7201a8"
             ],
             [
              0.3333333333333333,
              "#9c179e"
             ],
             [
              0.4444444444444444,
              "#bd3786"
             ],
             [
              0.5555555555555556,
              "#d8576b"
             ],
             [
              0.6666666666666666,
              "#ed7953"
             ],
             [
              0.7777777777777778,
              "#fb9f3a"
             ],
             [
              0.8888888888888888,
              "#fdca26"
             ],
             [
              1,
              "#f0f921"
             ]
            ],
            "type": "contour"
           }
          ],
          "contourcarpet": [
           {
            "colorbar": {
             "outlinewidth": 0,
             "ticks": ""
            },
            "type": "contourcarpet"
           }
          ],
          "heatmap": [
           {
            "colorbar": {
             "outlinewidth": 0,
             "ticks": ""
            },
            "colorscale": [
             [
              0,
              "#0d0887"
             ],
             [
              0.1111111111111111,
              "#46039f"
             ],
             [
              0.2222222222222222,
              "#7201a8"
             ],
             [
              0.3333333333333333,
              "#9c179e"
             ],
             [
              0.4444444444444444,
              "#bd3786"
             ],
             [
              0.5555555555555556,
              "#d8576b"
             ],
             [
              0.6666666666666666,
              "#ed7953"
             ],
             [
              0.7777777777777778,
              "#fb9f3a"
             ],
             [
              0.8888888888888888,
              "#fdca26"
             ],
             [
              1,
              "#f0f921"
             ]
            ],
            "type": "heatmap"
           }
          ],
          "heatmapgl": [
           {
            "colorbar": {
             "outlinewidth": 0,
             "ticks": ""
            },
            "colorscale": [
             [
              0,
              "#0d0887"
             ],
             [
              0.1111111111111111,
              "#46039f"
             ],
             [
              0.2222222222222222,
              "#7201a8"
             ],
             [
              0.3333333333333333,
              "#9c179e"
             ],
             [
              0.4444444444444444,
              "#bd3786"
             ],
             [
              0.5555555555555556,
              "#d8576b"
             ],
             [
              0.6666666666666666,
              "#ed7953"
             ],
             [
              0.7777777777777778,
              "#fb9f3a"
             ],
             [
              0.8888888888888888,
              "#fdca26"
             ],
             [
              1,
              "#f0f921"
             ]
            ],
            "type": "heatmapgl"
           }
          ],
          "histogram": [
           {
            "marker": {
             "pattern": {
              "fillmode": "overlay",
              "size": 10,
              "solidity": 0.2
             }
            },
            "type": "histogram"
           }
          ],
          "histogram2d": [
           {
            "colorbar": {
             "outlinewidth": 0,
             "ticks": ""
            },
            "colorscale": [
             [
              0,
              "#0d0887"
             ],
             [
              0.1111111111111111,
              "#46039f"
             ],
             [
              0.2222222222222222,
              "#7201a8"
             ],
             [
              0.3333333333333333,
              "#9c179e"
             ],
             [
              0.4444444444444444,
              "#bd3786"
             ],
             [
              0.5555555555555556,
              "#d8576b"
             ],
             [
              0.6666666666666666,
              "#ed7953"
             ],
             [
              0.7777777777777778,
              "#fb9f3a"
             ],
             [
              0.8888888888888888,
              "#fdca26"
             ],
             [
              1,
              "#f0f921"
             ]
            ],
            "type": "histogram2d"
           }
          ],
          "histogram2dcontour": [
           {
            "colorbar": {
             "outlinewidth": 0,
             "ticks": ""
            },
            "colorscale": [
             [
              0,
              "#0d0887"
             ],
             [
              0.1111111111111111,
              "#46039f"
             ],
             [
              0.2222222222222222,
              "#7201a8"
             ],
             [
              0.3333333333333333,
              "#9c179e"
             ],
             [
              0.4444444444444444,
              "#bd3786"
             ],
             [
              0.5555555555555556,
              "#d8576b"
             ],
             [
              0.6666666666666666,
              "#ed7953"
             ],
             [
              0.7777777777777778,
              "#fb9f3a"
             ],
             [
              0.8888888888888888,
              "#fdca26"
             ],
             [
              1,
              "#f0f921"
             ]
            ],
            "type": "histogram2dcontour"
           }
          ],
          "mesh3d": [
           {
            "colorbar": {
             "outlinewidth": 0,
             "ticks": ""
            },
            "type": "mesh3d"
           }
          ],
          "parcoords": [
           {
            "line": {
             "colorbar": {
              "outlinewidth": 0,
              "ticks": ""
             }
            },
            "type": "parcoords"
           }
          ],
          "pie": [
           {
            "automargin": true,
            "type": "pie"
           }
          ],
          "scatter": [
           {
            "fillpattern": {
             "fillmode": "overlay",
             "size": 10,
             "solidity": 0.2
            },
            "type": "scatter"
           }
          ],
          "scatter3d": [
           {
            "line": {
             "colorbar": {
              "outlinewidth": 0,
              "ticks": ""
             }
            },
            "marker": {
             "colorbar": {
              "outlinewidth": 0,
              "ticks": ""
             }
            },
            "type": "scatter3d"
           }
          ],
          "scattercarpet": [
           {
            "marker": {
             "colorbar": {
              "outlinewidth": 0,
              "ticks": ""
             }
            },
            "type": "scattercarpet"
           }
          ],
          "scattergeo": [
           {
            "marker": {
             "colorbar": {
              "outlinewidth": 0,
              "ticks": ""
             }
            },
            "type": "scattergeo"
           }
          ],
          "scattergl": [
           {
            "marker": {
             "colorbar": {
              "outlinewidth": 0,
              "ticks": ""
             }
            },
            "type": "scattergl"
           }
          ],
          "scattermapbox": [
           {
            "marker": {
             "colorbar": {
              "outlinewidth": 0,
              "ticks": ""
             }
            },
            "type": "scattermapbox"
           }
          ],
          "scatterpolar": [
           {
            "marker": {
             "colorbar": {
              "outlinewidth": 0,
              "ticks": ""
             }
            },
            "type": "scatterpolar"
           }
          ],
          "scatterpolargl": [
           {
            "marker": {
             "colorbar": {
              "outlinewidth": 0,
              "ticks": ""
             }
            },
            "type": "scatterpolargl"
           }
          ],
          "scatterternary": [
           {
            "marker": {
             "colorbar": {
              "outlinewidth": 0,
              "ticks": ""
             }
            },
            "type": "scatterternary"
           }
          ],
          "surface": [
           {
            "colorbar": {
             "outlinewidth": 0,
             "ticks": ""
            },
            "colorscale": [
             [
              0,
              "#0d0887"
             ],
             [
              0.1111111111111111,
              "#46039f"
             ],
             [
              0.2222222222222222,
              "#7201a8"
             ],
             [
              0.3333333333333333,
              "#9c179e"
             ],
             [
              0.4444444444444444,
              "#bd3786"
             ],
             [
              0.5555555555555556,
              "#d8576b"
             ],
             [
              0.6666666666666666,
              "#ed7953"
             ],
             [
              0.7777777777777778,
              "#fb9f3a"
             ],
             [
              0.8888888888888888,
              "#fdca26"
             ],
             [
              1,
              "#f0f921"
             ]
            ],
            "type": "surface"
           }
          ],
          "table": [
           {
            "cells": {
             "fill": {
              "color": "#EBF0F8"
             },
             "line": {
              "color": "white"
             }
            },
            "header": {
             "fill": {
              "color": "#C8D4E3"
             },
             "line": {
              "color": "white"
             }
            },
            "type": "table"
           }
          ]
         },
         "layout": {
          "annotationdefaults": {
           "arrowcolor": "#2a3f5f",
           "arrowhead": 0,
           "arrowwidth": 1
          },
          "autotypenumbers": "strict",
          "coloraxis": {
           "colorbar": {
            "outlinewidth": 0,
            "ticks": ""
           }
          },
          "colorscale": {
           "diverging": [
            [
             0,
             "#8e0152"
            ],
            [
             0.1,
             "#c51b7d"
            ],
            [
             0.2,
             "#de77ae"
            ],
            [
             0.3,
             "#f1b6da"
            ],
            [
             0.4,
             "#fde0ef"
            ],
            [
             0.5,
             "#f7f7f7"
            ],
            [
             0.6,
             "#e6f5d0"
            ],
            [
             0.7,
             "#b8e186"
            ],
            [
             0.8,
             "#7fbc41"
            ],
            [
             0.9,
             "#4d9221"
            ],
            [
             1,
             "#276419"
            ]
           ],
           "sequential": [
            [
             0,
             "#0d0887"
            ],
            [
             0.1111111111111111,
             "#46039f"
            ],
            [
             0.2222222222222222,
             "#7201a8"
            ],
            [
             0.3333333333333333,
             "#9c179e"
            ],
            [
             0.4444444444444444,
             "#bd3786"
            ],
            [
             0.5555555555555556,
             "#d8576b"
            ],
            [
             0.6666666666666666,
             "#ed7953"
            ],
            [
             0.7777777777777778,
             "#fb9f3a"
            ],
            [
             0.8888888888888888,
             "#fdca26"
            ],
            [
             1,
             "#f0f921"
            ]
           ],
           "sequentialminus": [
            [
             0,
             "#0d0887"
            ],
            [
             0.1111111111111111,
             "#46039f"
            ],
            [
             0.2222222222222222,
             "#7201a8"
            ],
            [
             0.3333333333333333,
             "#9c179e"
            ],
            [
             0.4444444444444444,
             "#bd3786"
            ],
            [
             0.5555555555555556,
             "#d8576b"
            ],
            [
             0.6666666666666666,
             "#ed7953"
            ],
            [
             0.7777777777777778,
             "#fb9f3a"
            ],
            [
             0.8888888888888888,
             "#fdca26"
            ],
            [
             1,
             "#f0f921"
            ]
           ]
          },
          "colorway": [
           "#636efa",
           "#EF553B",
           "#00cc96",
           "#ab63fa",
           "#FFA15A",
           "#19d3f3",
           "#FF6692",
           "#B6E880",
           "#FF97FF",
           "#FECB52"
          ],
          "font": {
           "color": "#2a3f5f"
          },
          "geo": {
           "bgcolor": "white",
           "lakecolor": "white",
           "landcolor": "#E5ECF6",
           "showlakes": true,
           "showland": true,
           "subunitcolor": "white"
          },
          "hoverlabel": {
           "align": "left"
          },
          "hovermode": "closest",
          "mapbox": {
           "style": "light"
          },
          "paper_bgcolor": "white",
          "plot_bgcolor": "#E5ECF6",
          "polar": {
           "angularaxis": {
            "gridcolor": "white",
            "linecolor": "white",
            "ticks": ""
           },
           "bgcolor": "#E5ECF6",
           "radialaxis": {
            "gridcolor": "white",
            "linecolor": "white",
            "ticks": ""
           }
          },
          "scene": {
           "xaxis": {
            "backgroundcolor": "#E5ECF6",
            "gridcolor": "white",
            "gridwidth": 2,
            "linecolor": "white",
            "showbackground": true,
            "ticks": "",
            "zerolinecolor": "white"
           },
           "yaxis": {
            "backgroundcolor": "#E5ECF6",
            "gridcolor": "white",
            "gridwidth": 2,
            "linecolor": "white",
            "showbackground": true,
            "ticks": "",
            "zerolinecolor": "white"
           },
           "zaxis": {
            "backgroundcolor": "#E5ECF6",
            "gridcolor": "white",
            "gridwidth": 2,
            "linecolor": "white",
            "showbackground": true,
            "ticks": "",
            "zerolinecolor": "white"
           }
          },
          "shapedefaults": {
           "line": {
            "color": "#2a3f5f"
           }
          },
          "ternary": {
           "aaxis": {
            "gridcolor": "white",
            "linecolor": "white",
            "ticks": ""
           },
           "baxis": {
            "gridcolor": "white",
            "linecolor": "white",
            "ticks": ""
           },
           "bgcolor": "#E5ECF6",
           "caxis": {
            "gridcolor": "white",
            "linecolor": "white",
            "ticks": ""
           }
          },
          "title": {
           "x": 0.05
          },
          "xaxis": {
           "automargin": true,
           "gridcolor": "white",
           "linecolor": "white",
           "ticks": "",
           "title": {
            "standoff": 15
           },
           "zerolinecolor": "white",
           "zerolinewidth": 2
          },
          "yaxis": {
           "automargin": true,
           "gridcolor": "white",
           "linecolor": "white",
           "ticks": "",
           "title": {
            "standoff": 15
           },
           "zerolinecolor": "white",
           "zerolinewidth": 2
          }
         }
        },
        "title": {
         "text": "OBPM vs DBPM"
        },
        "xaxis": {
         "title": {
          "text": "OBPM"
         }
        },
        "yaxis": {
         "title": {
          "text": "DBPM"
         }
        }
       }
      }
     },
     "metadata": {},
     "output_type": "display_data"
    }
   ],
   "source": [
    "import plotly.graph_objects as go\n",
    "\n",
    "fig = go.Figure()\n",
    "\n",
    "fig.add_trace(go.Scatter(x=player['OBPM'], y=player['DBPM'], mode='markers', marker=dict(color='blue'), hovertext=player['Player'], name='All Players'))\n",
    "\n",
    "\n",
    "for i, row in WAS_players.iterrows():\n",
    "    fig.add_trace(go.Scatter(x=[row['OBPM']], y=[row['DBPM']], mode='markers', marker=dict(color='red'), hovertext=row['Player'], name=row['Player']))\n",
    "\n",
    "fig.update_layout(title='OBPM vs DBPM', xaxis_title='OBPM', yaxis_title='DBPM')\n",
    "\n",
    "fig.show()\n"
   ]
  },
  {
   "cell_type": "code",
   "execution_count": 29,
   "metadata": {},
   "outputs": [
    {
     "data": {
      "application/vnd.plotly.v1+json": {
       "config": {
        "plotlyServerURL": "https://plot.ly"
       },
       "data": [
        {
         "marker": {
          "color": "black"
         },
         "mode": "markers",
         "name": "All Players",
         "text": [
          "Precious Achiuwa",
          "Bam Adebayo",
          "Ochai Agbaji",
          "Santi Aldama",
          "Nickeil Alexander-Walker",
          "Grayson Allen",
          "Jarrett Allen",
          "Timmy Allen",
          "Jose Alvarado",
          "Kyle Anderson",
          "Giannis Antetokounmpo",
          "Thanasis Antetokounmpo",
          "Cole Anthony",
          "OG Anunoby",
          "Ryan Arcidiacono",
          "Deni Avdija",
          "Deandre Ayton",
          "Udoka Azubuike",
          "Ibou Badji",
          "Marvin Bagley III",
          "Amari Bailey",
          "Patrick Baldwin Jr.",
          "LaMelo Ball",
          "Mo Bamba",
          "Paolo Banchero",
          "Desmond Bane",
          "Dalano Banton",
          "Dominick Barlow",
          "Harrison Barnes",
          "Scottie Barnes",
          "RJ Barrett",
          "Charles Bassey",
          "Emoni Bates",
          "Keita Bates-Diop",
          "Nicolas Batum",
          "Darius Bazley",
          "Bradley Beal",
          "Malik Beasley",
          "MarJon Beauchamp",
          "Jules Bernard",
          "Dāvis Bertāns",
          "Patrick Beverley",
          "Saddiq Bey",
          "Goga Bitadze",
          "Onuralp Bitim",
          "Bismack Biyombo",
          "Anthony Black",
          "Leaky Black",
          "Buddy Boeheim",
          "Bogdan Bogdanović",
          "Bojan Bogdanović",
          "Bol Bol",
          "Marques Bolden",
          "Devin Booker",
          "Brandon Boston Jr.",
          "Chris Boucher",
          "James Bouknight",
          "Jamaree Bouyea",
          "Malaki Branham",
          "Christian Braun",
          "Mikal Bridges",
          "Miles Bridges",
          "Oshae Brissett",
          "Izaiah Brockington",
          "Malcolm Brogdon",
          "Armoni Brooks",
          "Dillon Brooks",
          "Bruce Brown",
          "Charlie Brown Jr.",
          "Greg Brown III",
          "Jaylen Brown",
          "Kendall Brown",
          "Kobe Brown",
          "Moses Brown",
          "Troy Brown Jr.",
          "Jalen Brunson",
          "Thomas Bryant",
          "Kobe Bufkin",
          "Reggie Bullock",
          "Alec Burks",
          "Jared Butler",
          "Jimmy Butler",
          "Jamal Cain",
          "Kentavious Caldwell-Pope",
          "Toumani Camara",
          "Clint Capela",
          "Jevon Carter",
          "Wendell Carter Jr.",
          "D.J. Carton",
          "Alex Caruso",
          "Colin Castleton",
          "Malcolm Cazalon",
          "Julian Champagnie",
          "Justin Champagnie",
          "Max Christie",
          "Sidy Cissoko",
          "Brandon Clarke",
          "Jordan Clarkson",
          "Nic Claxton",
          "Noah Clowney",
          "Amir Coffey",
          "John Collins",
          "Zach Collins",
          "Mike Conley",
          "Pat Connaughton",
          "Bilal Coulibaly",
          "Ricky Council IV",
          "Robert Covington",
          "Torrey Craig",
          "Jae Crowder",
          "Jalen Crutcher",
          "Cade Cunningham",
          "Seth Curry",
          "Stephen Curry",
          "Dyson Daniels",
          "Anthony Davis",
          "Johnny Davis",
          "JD Davison",
          "Dexter Dennis",
          "DeMar DeRozan",
          "Moussa Diabaté",
          "Mamadi Diakite",
          "Hamidou Diallo",
          "Gradey Dick",
          "Ousmane Dieng",
          "Spencer Dinwiddie",
          "Donte DiVincenzo",
          "Luka Dončić",
          "Luguentz Dort",
          "Ayo Dosunmu",
          "Jeff Dowtin",
          "Henri Drell",
          "Andre Drummond",
          "Chris Duarte",
          "David Duke Jr.",
          "Kris Dunn",
          "Kevin Durant",
          "Jalen Duren",
          "Tari Eason",
          "Anthony Edwards",
          "Kessler Edwards",
          "Keon Ellis",
          "Joel Embiid",
          "Drew Eubanks",
          "Tosan Evbuomwan",
          "Dante Exum",
          "Bruno Fernando",
          "Dorian Finney-Smith",
          "Adam Flagler",
          "Malachi Flynn",
          "Simone Fontecchio",
          "Jordan Ford",
          "Trent Forrest",
          "Evan Fournier",
          "De'Aaron Fox",
          "Javon Freeman-Liberty",
          "Alex Fudge",
          "Markelle Fultz",
          "Andrew Funk",
          "Wenyen Gabriel",
          "Daniel Gafford",
          "Danilo Gallinari",
          "Darius Garland",
          "Usman Garuba",
          "Luka Garza",
          "Kaiser Gates",
          "Keyonte George",
          "Paul George",
          "Taj Gibson",
          "Josh Giddey",
          "Harry Giles",
          "Shai Gilgeous-Alexander",
          "Anthony Gill",
          "Collin Gillespie",
          "Jacob Gilyard",
          "Rudy Gobert",
          "Jordan Goodwin",
          "Aaron Gordon",
          "Eric Gordon",
          "Devonte' Graham",
          "Jerami Grant",
          "RaiQuan Gray",
          "A.J. Green",
          "Danny Green",
          "Draymond Green",
          "Jalen Green",
          "Javonte Green",
          "Jeff Green",
          "Josh Green",
          "AJ Griffin",
          "Quentin Grimes",
          "Mouhamadou Gueye",
          "Mouhamed Gueye",
          "Rui Hachimura",
          "Ashton Hagans",
          "Tyrese Haliburton",
          "R.J. Hampton",
          "Tim Hardaway Jr.",
          "James Harden",
          "Jaden Hardy",
          "Ron Harper Jr.",
          "Gary Harris",
          "Joe Harris",
          "Kevon Harris",
          "Tobias Harris",
          "Shaquille Harrison",
          "Josh Hart",
          "Isaiah Hartenstein",
          "Sam Hauser",
          "Jordan Hawkins",
          "Jaxson Hayes",
          "Killian Hayes",
          "Gordon Hayward",
          "Scoot Henderson",
          "Taylor Hendricks",
          "Tyler Herro",
          "Buddy Hield",
          "Haywood Highsmith",
          "Nate Hinton",
          "D'Moi Hodge",
          "Aaron Holiday",
          "Jrue Holiday",
          "Justin Holiday",
          "Richaun Holmes",
          "Chet Holmgren",
          "Jalen Hood-Schifino",
          "Al Horford",
          "Talen Horton-Tucker",
          "Danuel House Jr.",
          "Caleb Houstan",
          "Jett Howard",
          "Kevin Huerter",
          "Jay Huff",
          "De'Andre Hunter",
          "Matthew Hurt",
          "Bones Hyland",
          "Joe Ingles",
          "Brandon Ingram",
          "Kyrie Irving",
          "Jonathan Isaac",
          "Jaden Ivey",
          "Andre Jackson Jr.",
          "GG Jackson II",
          "Isaiah Jackson",
          "Jaren Jackson Jr.",
          "Justin Jackson",
          "Quenton Jackson",
          "Reggie Jackson",
          "Trayce Jackson-Davis",
          "LeBron James",
          "Jaime Jaquez Jr.",
          "DeJon Jarreau",
          "DaQuan Jeffries",
          "Trey Jemison",
          "Ty Jerome",
          "Isaiah Joe",
          "Cameron Johnson",
          "Jalen Johnson",
          "James Johnson",
          "Keldon Johnson",
          "Keon Johnson",
          "Keyontae Johnson",
          "Nikola Jokić",
          "Colby Jones",
          "Damian Jones",
          "Derrick Jones Jr.",
          "Herbert Jones",
          "Mason Jones",
          "Tre Jones",
          "Tyus Jones",
          "DeAndre Jordan",
          "Cory Joseph",
          "Nikola Jović",
          "Johnny Juzang",
          "Luke Kennard",
          "Walker Kessler",
          "Braxton Key",
          "Corey Kispert",
          "Maxi Kleber",
          "Kevin Knox",
          "John Konchar",
          "Furkan Korkmaz",
          "Luke Kornet",
          "Vit Krejci",
          "Jonathan Kuminga",
          "Kyle Kuzma",
          "Jock Landale",
          "Jake LaRavia",
          "Zach LaVine",
          "A.J. Lawson",
          "Saben Lee",
          "Alex Len",
          "Kawhi Leonard",
          "Caris LeVert",
          "Kira Lewis Jr.",
          "Maxwell Lewis",
          "E.J. Liddell",
          "Damian Lillard",
          "Nassir Little",
          "Dereck Lively II",
          "Isaiah Livers",
          "Chris Livingston",
          "Kenneth Lofton Jr.",
          "Kevon Looney",
          "Brook Lopez",
          "Robin Lopez",
          "Kevin Love",
          "Kyle Lowry",
          "Seth Lundy",
          "Trey Lyles",
          "Théo Maledon",
          "Sandro Mamukelashvili",
          "Terance Mann",
          "Tre Mann",
          "Boban Marjanović",
          "Lauri Markkanen",
          "Naji Marshall",
          "Caleb Martin",
          "Cody Martin",
          "KJ Martin",
          "Garrison Mathews",
          "Bennedict Mathurin",
          "Wesley Matthews",
          "Tyrese Maxey",
          "Skylar Mays",
          "Miles McBride",
          "CJ McCollum",
          "T.J. McConnell",
          "Jaden McDaniels",
          "Jalen McDaniels",
          "Doug McDermott",
          "JaVale McGee",
          "Bryce McGowens",
          "Jordan McLaughlin",
          "De'Anthony Melton",
          "Nathan Mensah",
          "Sam Merrill",
          "Chimezie Metu",
          "Vasilije Micić",
          "Khris Middleton",
          "Brandon Miller",
          "Jordan Miller",
          "Leonard Miller",
          "Dariq Whitehead",
          "Patty Mills",
          "Shake Milton",
          "Justin Minaya",
          "Josh Minott",
          "Davion Mitchell",
          "Donovan Mitchell",
          "Evan Mobley",
          "Isaiah Mobley",
          "Malik Monk",
          "Moses Moody",
          "Xavier Moon",
          "Taze Moore",
          "Wendell Moore Jr.",
          "Ja Morant",
          "Marcus Morris",
          "Markieff Morris",
          "Monte Morris",
          "Trey Murphy III",
          "Dejounte Murray",
          "Jamal Murray",
          "Keegan Murray",
          "Kris Murray",
          "Mike Muscala",
          "Svi Mykhailiuk",
          "Larry Nance Jr.",
          "Pete Nance",
          "Andrew Nembhard",
          "Aaron Nesmith",
          "Georges Niang",
          "Daishen Nix",
          "Zeke Nnaji",
          "Jaylen Nowell",
          "Markquis Nowell",
          "Frank Ntilikina",
          "Jusuf Nurkić",
          "Jordan Nwora",
          "Royce O'Neale",
          "Chuma Okeke",
          "Josh Okogie",
          "Onyeka Okongwu",
          "Isaac Okoro",
          "Kelly Olynyk",
          "Eugene Omoruyi",
          "Cedi Osman",
          "Kelly Oubre Jr.",
          "Chris Paul",
          "Cameron Payne",
          "Gary Payton II",
          "Mãozinha Pereira",
          "Drew Peterson",
          "Filip Petrušev",
          "Julian Phillips",
          "Jalen Pickett",
          "Scotty Pippen Jr.",
          "Mason Plumlee",
          "Brandin Podziemski",
          "Jakob Poeltl",
          "Aleksej Pokusevski",
          "Jordan Poole",
          "Craig Porter Jr.",
          "Jontay Porter",
          "Michael Porter Jr.",
          "Otto Porter Jr.",
          "Bobby Portis",
          "Kristaps Porziņģis",
          "Micah Potter",
          "Dwight Powell",
          "Norman Powell",
          "Jason Preston",
          "Joshua Primo",
          "Taurean Prince",
          "Payton Pritchard",
          "Olivier-Maxence Prosper",
          "Trevelin Queen",
          "Neemias Queta",
          "Immanuel Quickley",
          "Lester Quinones",
          "Jahmi'us Ramsey",
          "Julius Randle",
          "Duop Reath",
          "Austin Reaves",
          "Cam Reddish",
          "Paul Reed",
          "Naz Reid",
          "Jared Rhoden",
          "Nick Richards",
          "Josh Richardson",
          "Duncan Robinson",
          "Jerome Robinson",
          "Mitchell Robinson",
          "Orlando Robinson",
          "Jeremiah Robinson-Earl",
          "David Roddy",
          "Ryan Rollins",
          "Derrick Rose",
          "Terry Rozier",
          "Rayan Rupert",
          "D'Angelo Russell",
          "Matt Ryan",
          "Domantas Sabonis",
          "Luka Šamanić",
          "Jermaine Samuels",
          "Adama Sanogo",
          "Gui Santos",
          "Dario Šarić",
          "Olivier Sarr",
          "Marcus Sasser",
          "Admiral Schofield",
          "Dennis Schröder",
          "Dereon Seabron",
          "Alperen Sengun",
          "Brice Sensabaugh",
          "Collin Sexton",
          "Landry Shamet",
          "Day'Ron Sharpe",
          "Shaedon Sharpe",
          "Ben Sheppard",
          "Pascal Siakam",
          "Ben Simmons",
          "Kobi Simmons",
          "Anfernee Simons",
          "Zavier Simpson",
          "Jericho Sims",
          "Dmytro Skapintsev",
          "Jalen Slawson",
          "Javonte Smart",
          "Marcus Smart",
          "Dennis Smith Jr.",
          "Dru Smith",
          "Ish Smith",
          "Jabari Smith Jr.",
          "Jalen Smith",
          "Nick Smith Jr.",
          "Terquavion Smith",
          "Jeremy Sochan",
          "Pat Spencer",
          "Jaden Springer",
          "Lamar Stevens",
          "Isaiah Stewart",
          "Julian Strawther",
          "Max Strus",
          "Jalen Suggs",
          "Cole Swider",
          "Jae'Sean Tate",
          "Jayson Tatum",
          "Terry Taylor",
          "Garrett Temple",
          "Dalen Terry",
          "Daniel Theis",
          "Cam Thomas",
          "Isaiah Thomas",
          "Amen Thompson",
          "Ausar Thompson",
          "Klay Thompson",
          "Tristan Thompson",
          "JT Thor",
          "Matisse Thybulle",
          "Xavier Tillman Sr.",
          "Jacob Toppin",
          "Obi Toppin",
          "Juan Toscano-Anderson",
          "Karl-Anthony Towns",
          "Gary Trent Jr.",
          "Oscar Tshiebwe",
          "P.J. Tucker",
          "Myles Turner",
          "Hunter Tyson",
          "Stanley Umude",
          "Jonas Valančiūnas",
          "Jarred Vanderbilt",
          "Fred VanVleet",
          "Devin Vassell",
          "Sasha Vezenkov",
          "Gabe Vincent",
          "Nikola Vučević",
          "Tristan Vukcevic",
          "Dean Wade",
          "Franz Wagner",
          "Moritz Wagner",
          "Ish Wainright",
          "Jabari Walker",
          "Jarace Walker",
          "Lonnie Walker IV",
          "Cason Wallace",
          "Jordan Walsh",
          "T.J. Warren",
          "P.J. Washington",
          "TyTy Washington Jr.",
          "Yuta Watanabe",
          "Lindy Waters III",
          "Trendon Watford",
          "Peyton Watson",
          "Victor Wembanyama",
          "Blake Wesley",
          "Russell Westbrook",
          "Coby White",
          "Derrick White",
          "Jack White",
          "Cam Whitmore",
          "Aaron Wiggins",
          "Andrew Wiggins",
          "Lindell Wigginton",
          "Alondes Williams",
          "Brandon Williams",
          "Grant Williams",
          "Jalen Williams",
          "Jaylin Williams",
          "Jeenathan Williams",
          "Kenrich Williams",
          "Malik Williams",
          "Mark Williams",
          "Patrick Williams",
          "Robert Williams",
          "Vince Williams Jr.",
          "Ziaire Williams",
          "Zion Williamson",
          "D.J. Wilson",
          "Jalen Wilson",
          "Dylan Windler",
          "James Wiseman",
          "Isaiah Wong",
          "Christian Wood",
          "Delon Wright",
          "Thaddeus Young",
          "Trae Young",
          "Omer Yurtseven",
          "Cody Zeller",
          "Ivica Zubac"
         ],
         "type": "scatter",
         "x": [
          -1.7,
          0.8,
          -3.5,
          -0.7,
          -1.1,
          1.1,
          2.1,
          -10.3,
          -1.5,
          -1.6,
          6.7,
          -6.7,
          -0.6,
          -1,
          -11.5,
          -0.7,
          0.5,
          -3,
          -7.7,
          1,
          -5.2,
          -4,
          3.8,
          -2.3,
          1.3,
          3.1,
          -0.7,
          -1.7,
          -0.6,
          2.9,
          0.7,
          -1.8,
          -6.2,
          -1.5,
          -1.3,
          -0.9,
          0.9,
          -1,
          -2.3,
          -0.6,
          -0.8,
          -1.5,
          0.1,
          -0.7,
          -5.4,
          -4.8,
          -3.8,
          -2.6,
          -0.7,
          0.9,
          -0.7,
          1.4,
          -2.1,
          4,
          -6.2,
          -0.3,
          4.4,
          -10.2,
          -3.4,
          -1.7,
          0.7,
          0.2,
          -2,
          -9.2,
          2.7,
          -2.2,
          -3.3,
          -2.4,
          -10.2,
          -5,
          0.9,
          -4.2,
          -4,
          -4.1,
          -2.8,
          6.3,
          -0.6,
          -4.3,
          -2.9,
          -0.3,
          -1.5,
          3.9,
          -2.5,
          -2.1,
          -3.1,
          1,
          -3.3,
          0.5,
          -4.2,
          0.2,
          -3.9,
          -6,
          -1.8,
          -1.1,
          -3.2,
          -4,
          0.7,
          -1.3,
          -0.3,
          -0.8,
          -1.9,
          0.5,
          -2,
          2,
          -1.6,
          -3.6,
          2.1,
          -1.1,
          -1.8,
          -2.6,
          -18.5,
          2,
          -2.6,
          6.3,
          -1.9,
          3.5,
          -5.5,
          1.8,
          1.7,
          2.1,
          4,
          0.8,
          2.7,
          -3.2,
          -2.3,
          -1.3,
          2.5,
          8.3,
          -1.4,
          -0.6,
          2,
          -5.1,
          0.8,
          -3.5,
          -0.1,
          -1.5,
          4,
          -0.2,
          -0.4,
          2.7,
          -1.6,
          -0.9,
          8.5,
          -2,
          -2.4,
          -0.3,
          -3.1,
          -2,
          -6.7,
          -2,
          0,
          3.3,
          -3.8,
          -4.7,
          2.6,
          -3.1,
          -3.7,
          -2.6,
          -12.4,
          -10.6,
          0.7,
          -0.8,
          0.2,
          -10.8,
          0.6,
          -18.6,
          -1.5,
          2.9,
          -5.3,
          1,
          -2.7,
          6.7,
          -2.6,
          -3.7,
          -2,
          0.1,
          -1.5,
          1.2,
          -1.3,
          -3,
          1,
          5.6,
          -0.4,
          -7.4,
          -0.6,
          0.4,
          1.9,
          -1.6,
          -2.4,
          -6,
          -2.6,
          -11,
          -2.1,
          0,
          -4.4,
          7.3,
          -8.1,
          -0.8,
          3.8,
          -2,
          -11.7,
          -2.3,
          -4.7,
          -15.5,
          1,
          -0.7,
          -1.3,
          0.7,
          1.2,
          -1.3,
          -2.8,
          -2.9,
          -1.6,
          -3.5,
          -1.3,
          1.5,
          1,
          -1.8,
          1.9,
          -3.7,
          -1.8,
          1,
          -2.5,
          -2.4,
          1.8,
          -12.4,
          1.7,
          -0.9,
          -3.4,
          -1.4,
          -1.4,
          -0.5,
          -0.3,
          -0.9,
          -3,
          -2.8,
          -1.7,
          1.4,
          4.8,
          1.4,
          -1.4,
          -3.6,
          -0.2,
          0.3,
          0,
          -6.3,
          -3.5,
          -1.8,
          1.5,
          5.5,
          -2.2,
          -4.6,
          -5.6,
          -4.7,
          -4.1,
          1.1,
          0.9,
          0.4,
          -8,
          -0.3,
          -1.6,
          -7.5,
          9,
          -5.4,
          -1.7,
          -1.3,
          -0.9,
          -5.4,
          -0.4,
          1.5,
          -1.7,
          -4,
          -0.9,
          -1.5,
          0.6,
          -0.4,
          0.5,
          -0.2,
          -2.3,
          -2.8,
          -2.6,
          -3.2,
          1.6,
          -3.3,
          0,
          0.5,
          -0.5,
          -1.4,
          0.8,
          -3.1,
          -2,
          -2.7,
          4.8,
          -0.6,
          -4.4,
          -10.3,
          -8.7,
          3.4,
          -2.4,
          -0.3,
          -5,
          -7,
          -0.6,
          -0.8,
          0.2,
          -4.7,
          2.7,
          -1.9,
          -7.7,
          -0.4,
          -8.3,
          -0.1,
          -0.8,
          -1.7,
          0.2,
          5.1,
          -1.3,
          -2.2,
          -4.1,
          -4,
          -2.1,
          -1.2,
          -3.1,
          4.1,
          -2.1,
          -0.4,
          3.3,
          2.9,
          -3.3,
          -7.2,
          -1.5,
          -1.9,
          -3.7,
          1.4,
          -0.7,
          -8.7,
          1.3,
          -2.1,
          -2.5,
          1.1,
          -0.9,
          0.4,
          5.9,
          -5.5,
          -5,
          -4.3,
          -5.1,
          1.8,
          -2.4,
          4.6,
          0.9,
          -4.5,
          1.5,
          -0.2,
          -4.7,
          -2.5,
          -6.1,
          2.7,
          -2.5,
          -4,
          -0.8,
          2.5,
          2.3,
          4.5,
          -0.4,
          -3.5,
          -3.9,
          -0.9,
          -0.2,
          -11.9,
          -1.6,
          -0.3,
          -2.5,
          -2.8,
          -3.8,
          -4.1,
          29.1,
          -10,
          -1,
          -1.1,
          -1,
          -3.2,
          -1.3,
          0,
          -1.8,
          0.7,
          -1.9,
          -1.7,
          -1.5,
          -0.2,
          -0.5,
          -1.3,
          -1.2,
          3.8,
          -4.7,
          -4.7,
          -2.7,
          -0.1,
          -1.1,
          -0.5,
          -0.3,
          -1.8,
          -2,
          -0.6,
          -0.3,
          1.2,
          -3.5,
          0,
          3.5,
          -1.4,
          -1.1,
          0.4,
          -2.5,
          -16.8,
          -2.6,
          1.3,
          -1.7,
          -4.7,
          0.4,
          2.2,
          -2,
          -3.9,
          2.2,
          -0.2,
          0.9,
          -4,
          -0.6,
          0.4,
          -2.9,
          -1.6,
          -1.3,
          -0.5,
          -6.1,
          -0.3,
          -1.9,
          -1.9,
          -4,
          0.6,
          -1.3,
          2.2,
          -5.6,
          1.7,
          -1.4,
          4,
          -4.9,
          -0.3,
          -0.4,
          0,
          0.6,
          -2.6,
          -1.5,
          -4.1,
          -0.5,
          -2.7,
          3.1,
          -3.3,
          3.8,
          -2.7,
          -0.4,
          -1.9,
          -3.3,
          2.6,
          -0.5,
          -2.6,
          2.7,
          -6.2,
          -2.4,
          -16,
          -7.5,
          -6.2,
          -3.3,
          -2.6,
          -1.8,
          -5.6,
          -0.5,
          3.2,
          -3.1,
          0.3,
          -2.8,
          -3.4,
          -4.9,
          -2.2,
          -1.6,
          -4.6,
          -1.1,
          -0.6,
          -2.1,
          -3.7,
          4.5,
          -3.1,
          -3.4,
          -3.4,
          -1.7,
          0.7,
          -1.6,
          -0.1,
          -2.8,
          1.1,
          -2.1,
          -3.5,
          -2.8,
          -3.1,
          0.6,
          1.8,
          -8.7,
          1.6,
          -1.2,
          4.5,
          -4,
          1,
          -6.8,
          -1.5,
          0.7,
          -2.9,
          2.6,
          0.9,
          -0.2,
          -6.9,
          0.8,
          -3.5,
          -1.7,
          0.9,
          1.7,
          -2.9,
          -2.4,
          -0.5,
          -0.4,
          -0.9,
          -5.6,
          -5,
          -1.7,
          -7.1,
          -5.3,
          2.4,
          -0.9,
          -3,
          1.9,
          -4,
          -0.2,
          0.7,
          2.4,
          -9.1,
          1,
          0.4,
          -1.4,
          -14.6,
          -17.8,
          -2.7,
          -1.9,
          2,
          -0.8,
          -0.8,
          -1.1,
          -7.8,
          1.6,
          -2.1,
          -2.2,
          -1.7,
          -4,
          3.3,
          15.5,
          -1.8,
          1.7,
          -2.6,
          -11.3,
          -2.6,
          -2,
          -0.5,
          4.9,
          -1.6,
          -2.9,
          0.8
         ],
         "y": [
          0.3,
          1.7,
          -0.9,
          0.4,
          1.3,
          0.1,
          0.9,
          -0.7,
          1.5,
          2.7,
          2.4,
          0.3,
          0.7,
          0.5,
          1.9,
          -0.2,
          -0.2,
          -0.1,
          1.9,
          -1.4,
          -3.1,
          -0.6,
          -0.5,
          1.4,
          0,
          -0.3,
          -0.6,
          0,
          -1.2,
          0.8,
          -1.5,
          3.1,
          -3,
          0.4,
          0.8,
          0.5,
          -0.6,
          -0.8,
          -0.9,
          -2.5,
          -0.6,
          0.5,
          -2,
          2.8,
          -2,
          1.4,
          0.8,
          0.3,
          -2.8,
          -0.7,
          -2.5,
          0.8,
          -0.5,
          -1,
          -2.7,
          -1.4,
          -2.2,
          -2,
          -2.2,
          -0.2,
          -1,
          -1.3,
          0.2,
          -8.5,
          -0.7,
          -3.7,
          -0.3,
          -1,
          -3.4,
          0.6,
          -0.1,
          -2.6,
          0.2,
          -2.4,
          0.2,
          -0.4,
          0.2,
          -0.2,
          0.5,
          -2,
          -0.5,
          0.7,
          0.2,
          0.7,
          0,
          -1,
          -0.7,
          0.4,
          -1.1,
          2.3,
          -1.4,
          -3.2,
          -0.1,
          -0.8,
          -0.4,
          1.4,
          0.3,
          -3.2,
          1.5,
          0.1,
          -0.3,
          -1.4,
          -0.1,
          1.4,
          0,
          -0.5,
          -0.8,
          3.2,
          -0.2,
          0,
          -7.8,
          -1.6,
          -0.6,
          -1.1,
          2.5,
          1.7,
          -1.1,
          1.4,
          -0.1,
          -0.3,
          -0.5,
          2.7,
          16,
          -2.2,
          -0.7,
          -0.6,
          0.9,
          1.7,
          -0.2,
          -0.2,
          1.3,
          0.2,
          -0.7,
          0.1,
          1.4,
          1.4,
          0.1,
          0.1,
          2,
          0.5,
          0.1,
          2.1,
          3.1,
          0.8,
          -0.7,
          -0.3,
          0.9,
          -0.1,
          -3.9,
          -0.2,
          -1,
          -1.1,
          -0.7,
          0.3,
          0.1,
          -2,
          -1.5,
          1.2,
          -2,
          -1.9,
          1.9,
          -1,
          -1.2,
          -0.1,
          -2.7,
          -10.1,
          -2.9,
          0.2,
          0.1,
          0.4,
          -2,
          2.3,
          -1.5,
          0.9,
          0.6,
          1.7,
          0.5,
          0.1,
          -0.5,
          -0.9,
          -1.1,
          1.8,
          -1.7,
          0.8,
          3,
          -0.9,
          0.1,
          -0.4,
          -0.3,
          -3.5,
          0.4,
          -0.9,
          0.6,
          -0.9,
          0.9,
          -0.4,
          -1.4,
          -2.1,
          0.3,
          -2.1,
          2.8,
          1.1,
          -1.1,
          -0.3,
          -0.1,
          5.2,
          1.4,
          2.8,
          0,
          -1.7,
          0.9,
          0.2,
          -0.5,
          -2.3,
          -0.4,
          -0.7,
          -0.6,
          1.1,
          1.7,
          -2.6,
          0.3,
          1.1,
          0.9,
          -0.8,
          1.5,
          -3.7,
          2,
          -0.4,
          -0.5,
          -0.5,
          -0.3,
          -0.4,
          1.6,
          -1.5,
          -0.7,
          -0.8,
          1.2,
          -0.3,
          0.1,
          2.4,
          -1.7,
          0,
          -1.8,
          1.4,
          0.4,
          -1.2,
          6.8,
          -1.5,
          1.2,
          0.9,
          0.3,
          0.7,
          -2.5,
          -0.4,
          -0.8,
          -0.3,
          -0.5,
          0.8,
          2.2,
          -1.4,
          -1.1,
          -2.2,
          4.2,
          0.4,
          1.2,
          -0.3,
          1.5,
          0,
          0.1,
          -0.9,
          -0.1,
          -0.7,
          1.3,
          -2.2,
          -0.9,
          1.3,
          1.6,
          -2,
          1,
          -1.8,
          2.2,
          0.4,
          1.8,
          -0.4,
          -0.4,
          -1.6,
          0.4,
          -1,
          -0.7,
          -1.5,
          0.6,
          2.9,
          0.6,
          0.8,
          -1.4,
          -3.2,
          4,
          -1.3,
          -0.6,
          0.8,
          -1.5,
          -1,
          0.3,
          1.4,
          0.8,
          -1.4,
          1,
          0.9,
          -5,
          -0.7,
          -2.1,
          -0.4,
          -0.7,
          0.4,
          -0.5,
          -1.5,
          0.5,
          0.2,
          0.6,
          -0.1,
          -0.9,
          -2.3,
          0.3,
          -1,
          0.1,
          0.4,
          -0.3,
          0.1,
          0.7,
          -1.8,
          -1.9,
          0.6,
          -1.1,
          2.9,
          1.2,
          -0.1,
          -0.8,
          0.8,
          -2.2,
          0,
          -1.6,
          -4.2,
          3.7,
          -2.4,
          0.4,
          0.6,
          -0.5,
          3.3,
          -1,
          1.2,
          2,
          -2.1,
          -1,
          0.1,
          -1.4,
          -0.6,
          3.3,
          0.4,
          -1.3,
          -1.3,
          1.5,
          0,
          -0.6,
          -0.4,
          -0.5,
          -0.2,
          -1.4,
          -0.9,
          2.2,
          -3.2,
          -0.5,
          -0.2,
          -0.4,
          1.4,
          0.1,
          -1.4,
          14.2,
          -3.4,
          2.1,
          -1.5,
          1,
          -0.2,
          0.8,
          -0.5,
          0.7,
          1.1,
          -0.4,
          -0.3,
          -0.7,
          1.2,
          -0.6,
          2.2,
          0.7,
          1.6,
          -3.3,
          -0.6,
          -0.5,
          1.4,
          0.4,
          0.4,
          1,
          -0.1,
          -1.9,
          1.1,
          1.9,
          -1.2,
          0.3,
          -0.8,
          1.6,
          -0.9,
          0.8,
          -1.2,
          -0.1,
          -8.2,
          -0.2,
          -0.2,
          -1.3,
          1.4,
          1.1,
          -0.9,
          -1.3,
          -0.5,
          -0.3,
          -0.7,
          -0.4,
          0.8,
          1,
          1.1,
          0.4,
          -0.7,
          0,
          -0.4,
          -2.2,
          0.4,
          0.8,
          -0.3,
          -1,
          5.1,
          -1.5,
          -0.7,
          -1.2,
          -0.8,
          -1.3,
          2.4,
          -2.9,
          1.1,
          -6.3,
          -0.5,
          0.4,
          -0.1,
          -1.1,
          -0.8,
          -1.3,
          1.2,
          1.7,
          -2.1,
          -1.9,
          -1.3,
          0.4,
          -0.9,
          -0.1,
          -0.7,
          2.9,
          1.6,
          -2.5,
          0.3,
          0.7,
          -9.8,
          1.1,
          -2.1,
          0.9,
          1.8,
          3.2,
          -1.2,
          0.1,
          -0.8,
          -2.8,
          0.5,
          -0.6,
          -3.1,
          1.5,
          -0.1,
          -0.7,
          -1.4,
          0.5,
          1.6,
          -2.4,
          1.5,
          0.6,
          -0.1,
          -1.2,
          1.1,
          0.1,
          -1.9,
          -5.2,
          1.9,
          0.6,
          -1.5,
          0.6,
          -1.1,
          3.4,
          1.9,
          -1.3,
          -0.3,
          -0.6,
          0.9,
          -1.4,
          -2.3,
          0.4,
          -0.1,
          -2.1,
          -0.1,
          0.5,
          1.3,
          0.8,
          -0.9,
          -0.7,
          0.4,
          -0.7,
          -0.1,
          1.8,
          0.3,
          0.3,
          0.5,
          -0.9,
          0.7,
          -1,
          1,
          1.8,
          0.5,
          -0.4,
          -1,
          -1.1,
          -0.5,
          0.4,
          0.8,
          3.3,
          0.1,
          0.7,
          -1.3,
          1.4,
          -1.2,
          -0.9,
          0.4,
          -1.2,
          -9.2,
          -5.4,
          -2.8,
          -0.7,
          0.3,
          1.9,
          -0.8,
          0.3,
          -3.7,
          -0.8,
          -0.1,
          2.9,
          1,
          -0.4,
          0.6,
          7,
          -1.1,
          -1,
          -0.9,
          -7.7,
          -0.2,
          2.5,
          0.8,
          -2.3,
          -1.5,
          0.3,
          0
         ]
        },
        {
         "marker": {
          "color": "red"
         },
         "mode": "markers",
         "name": "Deni Avdija",
         "text": "Deni Avdija",
         "type": "scatter",
         "visible": false,
         "x": [
          -0.7
         ],
         "y": [
          -0.2
         ]
        },
        {
         "marker": {
          "color": "red"
         },
         "mode": "markers",
         "name": "Patrick Baldwin Jr.",
         "text": "Patrick Baldwin Jr.",
         "type": "scatter",
         "visible": false,
         "x": [
          -4
         ],
         "y": [
          -0.6
         ]
        },
        {
         "marker": {
          "color": "red"
         },
         "mode": "markers",
         "name": "Jules Bernard",
         "text": "Jules Bernard",
         "type": "scatter",
         "visible": false,
         "x": [
          -0.6
         ],
         "y": [
          -2.5
         ]
        },
        {
         "marker": {
          "color": "red"
         },
         "mode": "markers",
         "name": "Jared Butler",
         "text": "Jared Butler",
         "type": "scatter",
         "visible": false,
         "x": [
          -1.5
         ],
         "y": [
          -0.5
         ]
        },
        {
         "marker": {
          "color": "red"
         },
         "mode": "markers",
         "name": "Justin Champagnie",
         "text": "Justin Champagnie",
         "type": "scatter",
         "visible": false,
         "x": [
          -1.1
         ],
         "y": [
          -0.8
         ]
        },
        {
         "marker": {
          "color": "red"
         },
         "mode": "markers",
         "name": "Bilal Coulibaly",
         "text": "Bilal Coulibaly",
         "type": "scatter",
         "visible": false,
         "x": [
          -3.6
         ],
         "y": [
          -0.5
         ]
        },
        {
         "marker": {
          "color": "red"
         },
         "mode": "markers",
         "name": "Johnny Davis",
         "text": "Johnny Davis",
         "type": "scatter",
         "visible": false,
         "x": [
          -5.5
         ],
         "y": [
          -1.1
         ]
        },
        {
         "marker": {
          "color": "red"
         },
         "mode": "markers",
         "name": "Hamidou Diallo",
         "text": "Hamidou Diallo",
         "type": "scatter",
         "visible": false,
         "x": [
          2.7
         ],
         "y": [
          16
         ]
        },
        {
         "marker": {
          "color": "red"
         },
         "mode": "markers",
         "name": "Anthony Gill",
         "text": "Anthony Gill",
         "type": "scatter",
         "visible": false,
         "x": [
          -2.6
         ],
         "y": [
          -1.5
         ]
        },
        {
         "marker": {
          "color": "red"
         },
         "mode": "markers",
         "name": "Tyus Jones",
         "text": "Tyus Jones",
         "type": "scatter",
         "visible": false,
         "x": [
          1.5
         ],
         "y": [
          -0.9
         ]
        },
        {
         "marker": {
          "color": "red"
         },
         "mode": "markers",
         "name": "Corey Kispert",
         "text": "Corey Kispert",
         "type": "scatter",
         "visible": false,
         "x": [
          -0.2
         ],
         "y": [
          -2
         ]
        },
        {
         "marker": {
          "color": "red"
         },
         "mode": "markers",
         "name": "Kyle Kuzma",
         "text": "Kyle Kuzma",
         "type": "scatter",
         "visible": false,
         "x": [
          0.5
         ],
         "y": [
          -1.6
         ]
        },
        {
         "marker": {
          "color": "red"
         },
         "mode": "markers",
         "name": "Eugene Omoruyi",
         "text": "Eugene Omoruyi",
         "type": "scatter",
         "visible": false,
         "x": [
          -1.9
         ],
         "y": [
          -0.4
         ]
        },
        {
         "marker": {
          "color": "red"
         },
         "mode": "markers",
         "name": "Jordan Poole",
         "text": "Jordan Poole",
         "type": "scatter",
         "visible": false,
         "x": [
          -2
         ],
         "y": [
          -1.9
         ]
        },
        {
         "marker": {
          "color": "red"
         },
         "mode": "markers",
         "name": "Landry Shamet",
         "text": "Landry Shamet",
         "type": "scatter",
         "visible": false,
         "x": [
          -2.7
         ],
         "y": [
          -1.3
         ]
        },
        {
         "marker": {
          "color": "red"
         },
         "mode": "markers",
         "name": "Tristan Vukcevic",
         "text": "Tristan Vukcevic",
         "type": "scatter",
         "visible": false,
         "x": [
          -3.5
         ],
         "y": [
          -0.1
         ]
        }
       ],
       "layout": {
        "hovermode": "closest",
        "template": {
         "data": {
          "bar": [
           {
            "error_x": {
             "color": "#2a3f5f"
            },
            "error_y": {
             "color": "#2a3f5f"
            },
            "marker": {
             "line": {
              "color": "#E5ECF6",
              "width": 0.5
             },
             "pattern": {
              "fillmode": "overlay",
              "size": 10,
              "solidity": 0.2
             }
            },
            "type": "bar"
           }
          ],
          "barpolar": [
           {
            "marker": {
             "line": {
              "color": "#E5ECF6",
              "width": 0.5
             },
             "pattern": {
              "fillmode": "overlay",
              "size": 10,
              "solidity": 0.2
             }
            },
            "type": "barpolar"
           }
          ],
          "carpet": [
           {
            "aaxis": {
             "endlinecolor": "#2a3f5f",
             "gridcolor": "white",
             "linecolor": "white",
             "minorgridcolor": "white",
             "startlinecolor": "#2a3f5f"
            },
            "baxis": {
             "endlinecolor": "#2a3f5f",
             "gridcolor": "white",
             "linecolor": "white",
             "minorgridcolor": "white",
             "startlinecolor": "#2a3f5f"
            },
            "type": "carpet"
           }
          ],
          "choropleth": [
           {
            "colorbar": {
             "outlinewidth": 0,
             "ticks": ""
            },
            "type": "choropleth"
           }
          ],
          "contour": [
           {
            "colorbar": {
             "outlinewidth": 0,
             "ticks": ""
            },
            "colorscale": [
             [
              0,
              "#0d0887"
             ],
             [
              0.1111111111111111,
              "#46039f"
             ],
             [
              0.2222222222222222,
              "#7201a8"
             ],
             [
              0.3333333333333333,
              "#9c179e"
             ],
             [
              0.4444444444444444,
              "#bd3786"
             ],
             [
              0.5555555555555556,
              "#d8576b"
             ],
             [
              0.6666666666666666,
              "#ed7953"
             ],
             [
              0.7777777777777778,
              "#fb9f3a"
             ],
             [
              0.8888888888888888,
              "#fdca26"
             ],
             [
              1,
              "#f0f921"
             ]
            ],
            "type": "contour"
           }
          ],
          "contourcarpet": [
           {
            "colorbar": {
             "outlinewidth": 0,
             "ticks": ""
            },
            "type": "contourcarpet"
           }
          ],
          "heatmap": [
           {
            "colorbar": {
             "outlinewidth": 0,
             "ticks": ""
            },
            "colorscale": [
             [
              0,
              "#0d0887"
             ],
             [
              0.1111111111111111,
              "#46039f"
             ],
             [
              0.2222222222222222,
              "#7201a8"
             ],
             [
              0.3333333333333333,
              "#9c179e"
             ],
             [
              0.4444444444444444,
              "#bd3786"
             ],
             [
              0.5555555555555556,
              "#d8576b"
             ],
             [
              0.6666666666666666,
              "#ed7953"
             ],
             [
              0.7777777777777778,
              "#fb9f3a"
             ],
             [
              0.8888888888888888,
              "#fdca26"
             ],
             [
              1,
              "#f0f921"
             ]
            ],
            "type": "heatmap"
           }
          ],
          "heatmapgl": [
           {
            "colorbar": {
             "outlinewidth": 0,
             "ticks": ""
            },
            "colorscale": [
             [
              0,
              "#0d0887"
             ],
             [
              0.1111111111111111,
              "#46039f"
             ],
             [
              0.2222222222222222,
              "#7201a8"
             ],
             [
              0.3333333333333333,
              "#9c179e"
             ],
             [
              0.4444444444444444,
              "#bd3786"
             ],
             [
              0.5555555555555556,
              "#d8576b"
             ],
             [
              0.6666666666666666,
              "#ed7953"
             ],
             [
              0.7777777777777778,
              "#fb9f3a"
             ],
             [
              0.8888888888888888,
              "#fdca26"
             ],
             [
              1,
              "#f0f921"
             ]
            ],
            "type": "heatmapgl"
           }
          ],
          "histogram": [
           {
            "marker": {
             "pattern": {
              "fillmode": "overlay",
              "size": 10,
              "solidity": 0.2
             }
            },
            "type": "histogram"
           }
          ],
          "histogram2d": [
           {
            "colorbar": {
             "outlinewidth": 0,
             "ticks": ""
            },
            "colorscale": [
             [
              0,
              "#0d0887"
             ],
             [
              0.1111111111111111,
              "#46039f"
             ],
             [
              0.2222222222222222,
              "#7201a8"
             ],
             [
              0.3333333333333333,
              "#9c179e"
             ],
             [
              0.4444444444444444,
              "#bd3786"
             ],
             [
              0.5555555555555556,
              "#d8576b"
             ],
             [
              0.6666666666666666,
              "#ed7953"
             ],
             [
              0.7777777777777778,
              "#fb9f3a"
             ],
             [
              0.8888888888888888,
              "#fdca26"
             ],
             [
              1,
              "#f0f921"
             ]
            ],
            "type": "histogram2d"
           }
          ],
          "histogram2dcontour": [
           {
            "colorbar": {
             "outlinewidth": 0,
             "ticks": ""
            },
            "colorscale": [
             [
              0,
              "#0d0887"
             ],
             [
              0.1111111111111111,
              "#46039f"
             ],
             [
              0.2222222222222222,
              "#7201a8"
             ],
             [
              0.3333333333333333,
              "#9c179e"
             ],
             [
              0.4444444444444444,
              "#bd3786"
             ],
             [
              0.5555555555555556,
              "#d8576b"
             ],
             [
              0.6666666666666666,
              "#ed7953"
             ],
             [
              0.7777777777777778,
              "#fb9f3a"
             ],
             [
              0.8888888888888888,
              "#fdca26"
             ],
             [
              1,
              "#f0f921"
             ]
            ],
            "type": "histogram2dcontour"
           }
          ],
          "mesh3d": [
           {
            "colorbar": {
             "outlinewidth": 0,
             "ticks": ""
            },
            "type": "mesh3d"
           }
          ],
          "parcoords": [
           {
            "line": {
             "colorbar": {
              "outlinewidth": 0,
              "ticks": ""
             }
            },
            "type": "parcoords"
           }
          ],
          "pie": [
           {
            "automargin": true,
            "type": "pie"
           }
          ],
          "scatter": [
           {
            "fillpattern": {
             "fillmode": "overlay",
             "size": 10,
             "solidity": 0.2
            },
            "type": "scatter"
           }
          ],
          "scatter3d": [
           {
            "line": {
             "colorbar": {
              "outlinewidth": 0,
              "ticks": ""
             }
            },
            "marker": {
             "colorbar": {
              "outlinewidth": 0,
              "ticks": ""
             }
            },
            "type": "scatter3d"
           }
          ],
          "scattercarpet": [
           {
            "marker": {
             "colorbar": {
              "outlinewidth": 0,
              "ticks": ""
             }
            },
            "type": "scattercarpet"
           }
          ],
          "scattergeo": [
           {
            "marker": {
             "colorbar": {
              "outlinewidth": 0,
              "ticks": ""
             }
            },
            "type": "scattergeo"
           }
          ],
          "scattergl": [
           {
            "marker": {
             "colorbar": {
              "outlinewidth": 0,
              "ticks": ""
             }
            },
            "type": "scattergl"
           }
          ],
          "scattermapbox": [
           {
            "marker": {
             "colorbar": {
              "outlinewidth": 0,
              "ticks": ""
             }
            },
            "type": "scattermapbox"
           }
          ],
          "scatterpolar": [
           {
            "marker": {
             "colorbar": {
              "outlinewidth": 0,
              "ticks": ""
             }
            },
            "type": "scatterpolar"
           }
          ],
          "scatterpolargl": [
           {
            "marker": {
             "colorbar": {
              "outlinewidth": 0,
              "ticks": ""
             }
            },
            "type": "scatterpolargl"
           }
          ],
          "scatterternary": [
           {
            "marker": {
             "colorbar": {
              "outlinewidth": 0,
              "ticks": ""
             }
            },
            "type": "scatterternary"
           }
          ],
          "surface": [
           {
            "colorbar": {
             "outlinewidth": 0,
             "ticks": ""
            },
            "colorscale": [
             [
              0,
              "#0d0887"
             ],
             [
              0.1111111111111111,
              "#46039f"
             ],
             [
              0.2222222222222222,
              "#7201a8"
             ],
             [
              0.3333333333333333,
              "#9c179e"
             ],
             [
              0.4444444444444444,
              "#bd3786"
             ],
             [
              0.5555555555555556,
              "#d8576b"
             ],
             [
              0.6666666666666666,
              "#ed7953"
             ],
             [
              0.7777777777777778,
              "#fb9f3a"
             ],
             [
              0.8888888888888888,
              "#fdca26"
             ],
             [
              1,
              "#f0f921"
             ]
            ],
            "type": "surface"
           }
          ],
          "table": [
           {
            "cells": {
             "fill": {
              "color": "#EBF0F8"
             },
             "line": {
              "color": "white"
             }
            },
            "header": {
             "fill": {
              "color": "#C8D4E3"
             },
             "line": {
              "color": "white"
             }
            },
            "type": "table"
           }
          ]
         },
         "layout": {
          "annotationdefaults": {
           "arrowcolor": "#2a3f5f",
           "arrowhead": 0,
           "arrowwidth": 1
          },
          "autotypenumbers": "strict",
          "coloraxis": {
           "colorbar": {
            "outlinewidth": 0,
            "ticks": ""
           }
          },
          "colorscale": {
           "diverging": [
            [
             0,
             "#8e0152"
            ],
            [
             0.1,
             "#c51b7d"
            ],
            [
             0.2,
             "#de77ae"
            ],
            [
             0.3,
             "#f1b6da"
            ],
            [
             0.4,
             "#fde0ef"
            ],
            [
             0.5,
             "#f7f7f7"
            ],
            [
             0.6,
             "#e6f5d0"
            ],
            [
             0.7,
             "#b8e186"
            ],
            [
             0.8,
             "#7fbc41"
            ],
            [
             0.9,
             "#4d9221"
            ],
            [
             1,
             "#276419"
            ]
           ],
           "sequential": [
            [
             0,
             "#0d0887"
            ],
            [
             0.1111111111111111,
             "#46039f"
            ],
            [
             0.2222222222222222,
             "#7201a8"
            ],
            [
             0.3333333333333333,
             "#9c179e"
            ],
            [
             0.4444444444444444,
             "#bd3786"
            ],
            [
             0.5555555555555556,
             "#d8576b"
            ],
            [
             0.6666666666666666,
             "#ed7953"
            ],
            [
             0.7777777777777778,
             "#fb9f3a"
            ],
            [
             0.8888888888888888,
             "#fdca26"
            ],
            [
             1,
             "#f0f921"
            ]
           ],
           "sequentialminus": [
            [
             0,
             "#0d0887"
            ],
            [
             0.1111111111111111,
             "#46039f"
            ],
            [
             0.2222222222222222,
             "#7201a8"
            ],
            [
             0.3333333333333333,
             "#9c179e"
            ],
            [
             0.4444444444444444,
             "#bd3786"
            ],
            [
             0.5555555555555556,
             "#d8576b"
            ],
            [
             0.6666666666666666,
             "#ed7953"
            ],
            [
             0.7777777777777778,
             "#fb9f3a"
            ],
            [
             0.8888888888888888,
             "#fdca26"
            ],
            [
             1,
             "#f0f921"
            ]
           ]
          },
          "colorway": [
           "#636efa",
           "#EF553B",
           "#00cc96",
           "#ab63fa",
           "#FFA15A",
           "#19d3f3",
           "#FF6692",
           "#B6E880",
           "#FF97FF",
           "#FECB52"
          ],
          "font": {
           "color": "#2a3f5f"
          },
          "geo": {
           "bgcolor": "white",
           "lakecolor": "white",
           "landcolor": "#E5ECF6",
           "showlakes": true,
           "showland": true,
           "subunitcolor": "white"
          },
          "hoverlabel": {
           "align": "left"
          },
          "hovermode": "closest",
          "mapbox": {
           "style": "light"
          },
          "paper_bgcolor": "white",
          "plot_bgcolor": "#E5ECF6",
          "polar": {
           "angularaxis": {
            "gridcolor": "white",
            "linecolor": "white",
            "ticks": ""
           },
           "bgcolor": "#E5ECF6",
           "radialaxis": {
            "gridcolor": "white",
            "linecolor": "white",
            "ticks": ""
           }
          },
          "scene": {
           "xaxis": {
            "backgroundcolor": "#E5ECF6",
            "gridcolor": "white",
            "gridwidth": 2,
            "linecolor": "white",
            "showbackground": true,
            "ticks": "",
            "zerolinecolor": "white"
           },
           "yaxis": {
            "backgroundcolor": "#E5ECF6",
            "gridcolor": "white",
            "gridwidth": 2,
            "linecolor": "white",
            "showbackground": true,
            "ticks": "",
            "zerolinecolor": "white"
           },
           "zaxis": {
            "backgroundcolor": "#E5ECF6",
            "gridcolor": "white",
            "gridwidth": 2,
            "linecolor": "white",
            "showbackground": true,
            "ticks": "",
            "zerolinecolor": "white"
           }
          },
          "shapedefaults": {
           "line": {
            "color": "#2a3f5f"
           }
          },
          "ternary": {
           "aaxis": {
            "gridcolor": "white",
            "linecolor": "white",
            "ticks": ""
           },
           "baxis": {
            "gridcolor": "white",
            "linecolor": "white",
            "ticks": ""
           },
           "bgcolor": "#E5ECF6",
           "caxis": {
            "gridcolor": "white",
            "linecolor": "white",
            "ticks": ""
           }
          },
          "title": {
           "x": 0.05
          },
          "xaxis": {
           "automargin": true,
           "gridcolor": "white",
           "linecolor": "white",
           "ticks": "",
           "title": {
            "standoff": 15
           },
           "zerolinecolor": "white",
           "zerolinewidth": 2
          },
          "yaxis": {
           "automargin": true,
           "gridcolor": "white",
           "linecolor": "white",
           "ticks": "",
           "title": {
            "standoff": 15
           },
           "zerolinecolor": "white",
           "zerolinewidth": 2
          }
         }
        },
        "title": {
         "text": "Player BPM"
        },
        "updatemenus": [
         {
          "buttons": [
           {
            "args": [
             {
              "marker": {
               "color": [
                "red",
                "black",
                "black",
                "black",
                "black",
                "black",
                "black",
                "black",
                "black",
                "black",
                "black",
                "black",
                "black",
                "black",
                "black",
                "black",
                "black"
               ]
              },
              "visible": [
               true,
               true,
               false,
               false,
               false,
               false,
               false,
               false,
               false,
               false,
               false,
               false,
               false,
               false,
               false,
               false,
               false
              ]
             }
            ],
            "label": "Deni Avdija",
            "method": "update"
           },
           {
            "args": [
             {
              "marker": {
               "color": [
                "red",
                "black",
                "black",
                "black",
                "black",
                "black",
                "black",
                "black",
                "black",
                "black",
                "black",
                "black",
                "black",
                "black",
                "black",
                "black",
                "black"
               ]
              },
              "visible": [
               true,
               false,
               true,
               false,
               false,
               false,
               false,
               false,
               false,
               false,
               false,
               false,
               false,
               false,
               false,
               false,
               false
              ]
             }
            ],
            "label": "Patrick Baldwin Jr.",
            "method": "update"
           },
           {
            "args": [
             {
              "marker": {
               "color": [
                "red",
                "black",
                "black",
                "black",
                "black",
                "black",
                "black",
                "black",
                "black",
                "black",
                "black",
                "black",
                "black",
                "black",
                "black",
                "black",
                "black"
               ]
              },
              "visible": [
               true,
               false,
               false,
               true,
               false,
               false,
               false,
               false,
               false,
               false,
               false,
               false,
               false,
               false,
               false,
               false,
               false
              ]
             }
            ],
            "label": "Jules Bernard",
            "method": "update"
           },
           {
            "args": [
             {
              "marker": {
               "color": [
                "red",
                "black",
                "black",
                "black",
                "black",
                "black",
                "black",
                "black",
                "black",
                "black",
                "black",
                "black",
                "black",
                "black",
                "black",
                "black",
                "black"
               ]
              },
              "visible": [
               true,
               false,
               false,
               false,
               true,
               false,
               false,
               false,
               false,
               false,
               false,
               false,
               false,
               false,
               false,
               false,
               false
              ]
             }
            ],
            "label": "Jared Butler",
            "method": "update"
           },
           {
            "args": [
             {
              "marker": {
               "color": [
                "red",
                "black",
                "black",
                "black",
                "black",
                "black",
                "black",
                "black",
                "black",
                "black",
                "black",
                "black",
                "black",
                "black",
                "black",
                "black",
                "black"
               ]
              },
              "visible": [
               true,
               false,
               false,
               false,
               false,
               true,
               false,
               false,
               false,
               false,
               false,
               false,
               false,
               false,
               false,
               false,
               false
              ]
             }
            ],
            "label": "Justin Champagnie",
            "method": "update"
           },
           {
            "args": [
             {
              "marker": {
               "color": [
                "red",
                "black",
                "black",
                "black",
                "black",
                "black",
                "black",
                "black",
                "black",
                "black",
                "black",
                "black",
                "black",
                "black",
                "black",
                "black",
                "black"
               ]
              },
              "visible": [
               true,
               false,
               false,
               false,
               false,
               false,
               true,
               false,
               false,
               false,
               false,
               false,
               false,
               false,
               false,
               false,
               false
              ]
             }
            ],
            "label": "Bilal Coulibaly",
            "method": "update"
           },
           {
            "args": [
             {
              "marker": {
               "color": [
                "red",
                "black",
                "black",
                "black",
                "black",
                "black",
                "black",
                "black",
                "black",
                "black",
                "black",
                "black",
                "black",
                "black",
                "black",
                "black",
                "black"
               ]
              },
              "visible": [
               true,
               false,
               false,
               false,
               false,
               false,
               false,
               true,
               false,
               false,
               false,
               false,
               false,
               false,
               false,
               false,
               false
              ]
             }
            ],
            "label": "Johnny Davis",
            "method": "update"
           },
           {
            "args": [
             {
              "marker": {
               "color": [
                "red",
                "black",
                "black",
                "black",
                "black",
                "black",
                "black",
                "black",
                "black",
                "black",
                "black",
                "black",
                "black",
                "black",
                "black",
                "black",
                "black"
               ]
              },
              "visible": [
               true,
               false,
               false,
               false,
               false,
               false,
               false,
               false,
               true,
               false,
               false,
               false,
               false,
               false,
               false,
               false,
               false
              ]
             }
            ],
            "label": "Hamidou Diallo",
            "method": "update"
           },
           {
            "args": [
             {
              "marker": {
               "color": [
                "red",
                "black",
                "black",
                "black",
                "black",
                "black",
                "black",
                "black",
                "black",
                "black",
                "black",
                "black",
                "black",
                "black",
                "black",
                "black",
                "black"
               ]
              },
              "visible": [
               true,
               false,
               false,
               false,
               false,
               false,
               false,
               false,
               false,
               true,
               false,
               false,
               false,
               false,
               false,
               false,
               false
              ]
             }
            ],
            "label": "Anthony Gill",
            "method": "update"
           },
           {
            "args": [
             {
              "marker": {
               "color": [
                "red",
                "black",
                "black",
                "black",
                "black",
                "black",
                "black",
                "black",
                "black",
                "black",
                "black",
                "black",
                "black",
                "black",
                "black",
                "black",
                "black"
               ]
              },
              "visible": [
               true,
               false,
               false,
               false,
               false,
               false,
               false,
               false,
               false,
               false,
               true,
               false,
               false,
               false,
               false,
               false,
               false
              ]
             }
            ],
            "label": "Tyus Jones",
            "method": "update"
           },
           {
            "args": [
             {
              "marker": {
               "color": [
                "red",
                "black",
                "black",
                "black",
                "black",
                "black",
                "black",
                "black",
                "black",
                "black",
                "black",
                "black",
                "black",
                "black",
                "black",
                "black",
                "black"
               ]
              },
              "visible": [
               true,
               false,
               false,
               false,
               false,
               false,
               false,
               false,
               false,
               false,
               false,
               true,
               false,
               false,
               false,
               false,
               false
              ]
             }
            ],
            "label": "Corey Kispert",
            "method": "update"
           },
           {
            "args": [
             {
              "marker": {
               "color": [
                "red",
                "black",
                "black",
                "black",
                "black",
                "black",
                "black",
                "black",
                "black",
                "black",
                "black",
                "black",
                "black",
                "black",
                "black",
                "black",
                "black"
               ]
              },
              "visible": [
               true,
               false,
               false,
               false,
               false,
               false,
               false,
               false,
               false,
               false,
               false,
               false,
               true,
               false,
               false,
               false,
               false
              ]
             }
            ],
            "label": "Kyle Kuzma",
            "method": "update"
           },
           {
            "args": [
             {
              "marker": {
               "color": [
                "red",
                "black",
                "black",
                "black",
                "black",
                "black",
                "black",
                "black",
                "black",
                "black",
                "black",
                "black",
                "black",
                "black",
                "black",
                "black",
                "black"
               ]
              },
              "visible": [
               true,
               false,
               false,
               false,
               false,
               false,
               false,
               false,
               false,
               false,
               false,
               false,
               false,
               true,
               false,
               false,
               false
              ]
             }
            ],
            "label": "Eugene Omoruyi",
            "method": "update"
           },
           {
            "args": [
             {
              "marker": {
               "color": [
                "red",
                "black",
                "black",
                "black",
                "black",
                "black",
                "black",
                "black",
                "black",
                "black",
                "black",
                "black",
                "black",
                "black",
                "black",
                "black",
                "black"
               ]
              },
              "visible": [
               true,
               false,
               false,
               false,
               false,
               false,
               false,
               false,
               false,
               false,
               false,
               false,
               false,
               false,
               true,
               false,
               false
              ]
             }
            ],
            "label": "Jordan Poole",
            "method": "update"
           },
           {
            "args": [
             {
              "marker": {
               "color": [
                "red",
                "black",
                "black",
                "black",
                "black",
                "black",
                "black",
                "black",
                "black",
                "black",
                "black",
                "black",
                "black",
                "black",
                "black",
                "black",
                "black"
               ]
              },
              "visible": [
               true,
               false,
               false,
               false,
               false,
               false,
               false,
               false,
               false,
               false,
               false,
               false,
               false,
               false,
               false,
               true,
               false
              ]
             }
            ],
            "label": "Landry Shamet",
            "method": "update"
           },
           {
            "args": [
             {
              "marker": {
               "color": [
                "red",
                "black",
                "black",
                "black",
                "black",
                "black",
                "black",
                "black",
                "black",
                "black",
                "black",
                "black",
                "black",
                "black",
                "black",
                "black",
                "black"
               ]
              },
              "visible": [
               true,
               false,
               false,
               false,
               false,
               false,
               false,
               false,
               false,
               false,
               false,
               false,
               false,
               false,
               false,
               false,
               true
              ]
             }
            ],
            "label": "Tristan Vukcevic",
            "method": "update"
           }
          ],
          "direction": "down",
          "showactive": true
         }
        ],
        "xaxis": {
         "title": {
          "text": "OBPM"
         }
        },
        "yaxis": {
         "title": {
          "text": "DBPM"
         }
        }
       }
      }
     },
     "metadata": {},
     "output_type": "display_data"
    }
   ],
   "source": [
    "all_players_trace = go.Scatter(\n",
    "    x=player['OBPM'],\n",
    "    y=player['DBPM'],\n",
    "    mode='markers',\n",
    "    marker=dict(color='black'),  # All players are blue initially\n",
    "    text=player['Player'],\n",
    "    name='All Players'\n",
    ")\n",
    "\n",
    "selected_traces = []\n",
    "\n",
    "for index, row in WAS_players.iterrows():\n",
    "    trace = go.Scatter(\n",
    "        x=[row['OBPM']],\n",
    "        y=[row['DBPM']],\n",
    "        mode='markers',\n",
    "        marker=dict(color='red'),  # All initially blue\n",
    "        text=row['Player'],\n",
    "        name=row['Player'],\n",
    "        visible=False  # Initially invisible\n",
    "    )\n",
    "    selected_traces.append(trace)\n",
    "\n",
    "# Add the traces for selected WAS players to the data list\n",
    "data = [all_players_trace] + selected_traces\n",
    "\n",
    "# Create dropdown menu options\n",
    "dropdown_options = [{'label': player_name, \n",
    "                     'method': 'update', \n",
    "                     'args': [{'visible': [True] + [False] * len(WAS_players)}]} for player_name in WAS_players['Player']]\n",
    "\n",
    "# Update the color of selected player to red\n",
    "for i in range(len(WAS_players)):\n",
    "    dropdown_options[i]['args'][0]['visible'][i + 1] = True\n",
    "    dropdown_options[i]['args'][0]['marker'] = dict(color=['red'] + ['black'] * len(WAS_players))\n",
    "\n",
    "# Create dropdown menu\n",
    "updatemenus = [{'buttons': dropdown_options, 'direction': 'down', 'showactive': True}]\n",
    "\n",
    "# Layout\n",
    "layout = go.Layout(\n",
    "    title='Player BPM',\n",
    "    xaxis=dict(title='OBPM'),\n",
    "    yaxis=dict(title='DBPM'),\n",
    "    hovermode='closest',\n",
    "    updatemenus=updatemenus\n",
    ")\n",
    "\n",
    "fig = go.Figure(data=data, layout=layout)\n",
    "\n",
    "fig.show()"
   ]
  },
  {
   "cell_type": "code",
   "execution_count": 23,
   "metadata": {},
   "outputs": [],
   "source": [
    "import pandas as pd\n",
    "import plotly.express as px\n",
    "\n",
    "team = pd.read_csv(\"Data23-24\\Allteam.csv\")\n",
    "\n",
    "team = team[['Team','PTS','PTS-']]"
   ]
  },
  {
   "cell_type": "code",
   "execution_count": 21,
   "metadata": {},
   "outputs": [
    {
     "data": {
      "text/html": [
       "<div>\n",
       "<style scoped>\n",
       "    .dataframe tbody tr th:only-of-type {\n",
       "        vertical-align: middle;\n",
       "    }\n",
       "\n",
       "    .dataframe tbody tr th {\n",
       "        vertical-align: top;\n",
       "    }\n",
       "\n",
       "    .dataframe thead th {\n",
       "        text-align: right;\n",
       "    }\n",
       "</style>\n",
       "<table border=\"1\" class=\"dataframe\">\n",
       "  <thead>\n",
       "    <tr style=\"text-align: right;\">\n",
       "      <th></th>\n",
       "      <th>Team</th>\n",
       "      <th>PTS</th>\n",
       "      <th>PTS-</th>\n",
       "    </tr>\n",
       "  </thead>\n",
       "  <tbody>\n",
       "    <tr>\n",
       "      <th>0</th>\n",
       "      <td>IND</td>\n",
       "      <td>123.3</td>\n",
       "      <td>120.2</td>\n",
       "    </tr>\n",
       "    <tr>\n",
       "      <th>1</th>\n",
       "      <td>BOS</td>\n",
       "      <td>120.6</td>\n",
       "      <td>109.2</td>\n",
       "    </tr>\n",
       "    <tr>\n",
       "      <th>2</th>\n",
       "      <td>OKC</td>\n",
       "      <td>120.1</td>\n",
       "      <td>112.7</td>\n",
       "    </tr>\n",
       "    <tr>\n",
       "      <th>3</th>\n",
       "      <td>MIL</td>\n",
       "      <td>119.0</td>\n",
       "      <td>116.4</td>\n",
       "    </tr>\n",
       "    <tr>\n",
       "      <th>4</th>\n",
       "      <td>ATL</td>\n",
       "      <td>118.3</td>\n",
       "      <td>120.5</td>\n",
       "    </tr>\n",
       "  </tbody>\n",
       "</table>\n",
       "</div>"
      ],
      "text/plain": [
       "  Team    PTS   PTS-\n",
       "0  IND  123.3  120.2\n",
       "1  BOS  120.6  109.2\n",
       "2  OKC  120.1  112.7\n",
       "3  MIL  119.0  116.4\n",
       "4  ATL  118.3  120.5"
      ]
     },
     "execution_count": 21,
     "metadata": {},
     "output_type": "execute_result"
    }
   ],
   "source": [
    "team.head()"
   ]
  },
  {
   "cell_type": "code",
   "execution_count": 40,
   "metadata": {},
   "outputs": [
    {
     "data": {
      "application/vnd.plotly.v1+json": {
       "config": {
        "plotlyServerURL": "https://plot.ly"
       },
       "data": [
        {
         "marker": {
          "color": "blue"
         },
         "mode": "markers",
         "name": "Other Teams",
         "text": [
          "IND",
          "BOS",
          "OKC",
          "MIL",
          "ATL",
          "LAL",
          "DAL",
          "GSW",
          "SAC",
          "PHO",
          "UTA",
          "LAC",
          "NOP",
          "DEN",
          "PHI",
          "HOC",
          "MIN",
          "NYK",
          "CLE",
          "TOR",
          "CHI",
          "SAS",
          "ORL",
          "BRK",
          "MIA",
          "DET",
          "CHO",
          "POR",
          "MEM",
          "League Average"
         ],
         "type": "scatter",
         "x": [
          123.3,
          120.6,
          120.1,
          119,
          118.3,
          118,
          117.9,
          117.8,
          116.6,
          116.2,
          115.7,
          115.6,
          115.1,
          114.9,
          114.6,
          114.3,
          113,
          112.8,
          112.6,
          112.4,
          112.3,
          112.1,
          110.5,
          110.4,
          110.1,
          109.9,
          106.6,
          106.4,
          105.8,
          114.2
         ],
         "y": [
          120.2,
          109.2,
          112.7,
          116.4,
          120.5,
          117.4,
          115.6,
          115.2,
          114.8,
          113.2,
          120.5,
          112.3,
          110.7,
          109.6,
          114.6,
          113.2,
          106.5,
          108.2,
          110.2,
          118.8,
          113.7,
          118.6,
          108.4,
          113.3,
          108.4,
          119,
          116,
          115.4,
          112.8,
          null
         ]
        },
        {
         "marker": {
          "color": "red"
         },
         "mode": "markers",
         "name": "WAS",
         "text": [
          "WAS"
         ],
         "type": "scatter",
         "x": [
          113.7
         ],
         "y": [
          123
         ]
        }
       ],
       "layout": {
        "hovermode": "closest",
        "template": {
         "data": {
          "bar": [
           {
            "error_x": {
             "color": "#2a3f5f"
            },
            "error_y": {
             "color": "#2a3f5f"
            },
            "marker": {
             "line": {
              "color": "#E5ECF6",
              "width": 0.5
             },
             "pattern": {
              "fillmode": "overlay",
              "size": 10,
              "solidity": 0.2
             }
            },
            "type": "bar"
           }
          ],
          "barpolar": [
           {
            "marker": {
             "line": {
              "color": "#E5ECF6",
              "width": 0.5
             },
             "pattern": {
              "fillmode": "overlay",
              "size": 10,
              "solidity": 0.2
             }
            },
            "type": "barpolar"
           }
          ],
          "carpet": [
           {
            "aaxis": {
             "endlinecolor": "#2a3f5f",
             "gridcolor": "white",
             "linecolor": "white",
             "minorgridcolor": "white",
             "startlinecolor": "#2a3f5f"
            },
            "baxis": {
             "endlinecolor": "#2a3f5f",
             "gridcolor": "white",
             "linecolor": "white",
             "minorgridcolor": "white",
             "startlinecolor": "#2a3f5f"
            },
            "type": "carpet"
           }
          ],
          "choropleth": [
           {
            "colorbar": {
             "outlinewidth": 0,
             "ticks": ""
            },
            "type": "choropleth"
           }
          ],
          "contour": [
           {
            "colorbar": {
             "outlinewidth": 0,
             "ticks": ""
            },
            "colorscale": [
             [
              0,
              "#0d0887"
             ],
             [
              0.1111111111111111,
              "#46039f"
             ],
             [
              0.2222222222222222,
              "#7201a8"
             ],
             [
              0.3333333333333333,
              "#9c179e"
             ],
             [
              0.4444444444444444,
              "#bd3786"
             ],
             [
              0.5555555555555556,
              "#d8576b"
             ],
             [
              0.6666666666666666,
              "#ed7953"
             ],
             [
              0.7777777777777778,
              "#fb9f3a"
             ],
             [
              0.8888888888888888,
              "#fdca26"
             ],
             [
              1,
              "#f0f921"
             ]
            ],
            "type": "contour"
           }
          ],
          "contourcarpet": [
           {
            "colorbar": {
             "outlinewidth": 0,
             "ticks": ""
            },
            "type": "contourcarpet"
           }
          ],
          "heatmap": [
           {
            "colorbar": {
             "outlinewidth": 0,
             "ticks": ""
            },
            "colorscale": [
             [
              0,
              "#0d0887"
             ],
             [
              0.1111111111111111,
              "#46039f"
             ],
             [
              0.2222222222222222,
              "#7201a8"
             ],
             [
              0.3333333333333333,
              "#9c179e"
             ],
             [
              0.4444444444444444,
              "#bd3786"
             ],
             [
              0.5555555555555556,
              "#d8576b"
             ],
             [
              0.6666666666666666,
              "#ed7953"
             ],
             [
              0.7777777777777778,
              "#fb9f3a"
             ],
             [
              0.8888888888888888,
              "#fdca26"
             ],
             [
              1,
              "#f0f921"
             ]
            ],
            "type": "heatmap"
           }
          ],
          "heatmapgl": [
           {
            "colorbar": {
             "outlinewidth": 0,
             "ticks": ""
            },
            "colorscale": [
             [
              0,
              "#0d0887"
             ],
             [
              0.1111111111111111,
              "#46039f"
             ],
             [
              0.2222222222222222,
              "#7201a8"
             ],
             [
              0.3333333333333333,
              "#9c179e"
             ],
             [
              0.4444444444444444,
              "#bd3786"
             ],
             [
              0.5555555555555556,
              "#d8576b"
             ],
             [
              0.6666666666666666,
              "#ed7953"
             ],
             [
              0.7777777777777778,
              "#fb9f3a"
             ],
             [
              0.8888888888888888,
              "#fdca26"
             ],
             [
              1,
              "#f0f921"
             ]
            ],
            "type": "heatmapgl"
           }
          ],
          "histogram": [
           {
            "marker": {
             "pattern": {
              "fillmode": "overlay",
              "size": 10,
              "solidity": 0.2
             }
            },
            "type": "histogram"
           }
          ],
          "histogram2d": [
           {
            "colorbar": {
             "outlinewidth": 0,
             "ticks": ""
            },
            "colorscale": [
             [
              0,
              "#0d0887"
             ],
             [
              0.1111111111111111,
              "#46039f"
             ],
             [
              0.2222222222222222,
              "#7201a8"
             ],
             [
              0.3333333333333333,
              "#9c179e"
             ],
             [
              0.4444444444444444,
              "#bd3786"
             ],
             [
              0.5555555555555556,
              "#d8576b"
             ],
             [
              0.6666666666666666,
              "#ed7953"
             ],
             [
              0.7777777777777778,
              "#fb9f3a"
             ],
             [
              0.8888888888888888,
              "#fdca26"
             ],
             [
              1,
              "#f0f921"
             ]
            ],
            "type": "histogram2d"
           }
          ],
          "histogram2dcontour": [
           {
            "colorbar": {
             "outlinewidth": 0,
             "ticks": ""
            },
            "colorscale": [
             [
              0,
              "#0d0887"
             ],
             [
              0.1111111111111111,
              "#46039f"
             ],
             [
              0.2222222222222222,
              "#7201a8"
             ],
             [
              0.3333333333333333,
              "#9c179e"
             ],
             [
              0.4444444444444444,
              "#bd3786"
             ],
             [
              0.5555555555555556,
              "#d8576b"
             ],
             [
              0.6666666666666666,
              "#ed7953"
             ],
             [
              0.7777777777777778,
              "#fb9f3a"
             ],
             [
              0.8888888888888888,
              "#fdca26"
             ],
             [
              1,
              "#f0f921"
             ]
            ],
            "type": "histogram2dcontour"
           }
          ],
          "mesh3d": [
           {
            "colorbar": {
             "outlinewidth": 0,
             "ticks": ""
            },
            "type": "mesh3d"
           }
          ],
          "parcoords": [
           {
            "line": {
             "colorbar": {
              "outlinewidth": 0,
              "ticks": ""
             }
            },
            "type": "parcoords"
           }
          ],
          "pie": [
           {
            "automargin": true,
            "type": "pie"
           }
          ],
          "scatter": [
           {
            "fillpattern": {
             "fillmode": "overlay",
             "size": 10,
             "solidity": 0.2
            },
            "type": "scatter"
           }
          ],
          "scatter3d": [
           {
            "line": {
             "colorbar": {
              "outlinewidth": 0,
              "ticks": ""
             }
            },
            "marker": {
             "colorbar": {
              "outlinewidth": 0,
              "ticks": ""
             }
            },
            "type": "scatter3d"
           }
          ],
          "scattercarpet": [
           {
            "marker": {
             "colorbar": {
              "outlinewidth": 0,
              "ticks": ""
             }
            },
            "type": "scattercarpet"
           }
          ],
          "scattergeo": [
           {
            "marker": {
             "colorbar": {
              "outlinewidth": 0,
              "ticks": ""
             }
            },
            "type": "scattergeo"
           }
          ],
          "scattergl": [
           {
            "marker": {
             "colorbar": {
              "outlinewidth": 0,
              "ticks": ""
             }
            },
            "type": "scattergl"
           }
          ],
          "scattermapbox": [
           {
            "marker": {
             "colorbar": {
              "outlinewidth": 0,
              "ticks": ""
             }
            },
            "type": "scattermapbox"
           }
          ],
          "scatterpolar": [
           {
            "marker": {
             "colorbar": {
              "outlinewidth": 0,
              "ticks": ""
             }
            },
            "type": "scatterpolar"
           }
          ],
          "scatterpolargl": [
           {
            "marker": {
             "colorbar": {
              "outlinewidth": 0,
              "ticks": ""
             }
            },
            "type": "scatterpolargl"
           }
          ],
          "scatterternary": [
           {
            "marker": {
             "colorbar": {
              "outlinewidth": 0,
              "ticks": ""
             }
            },
            "type": "scatterternary"
           }
          ],
          "surface": [
           {
            "colorbar": {
             "outlinewidth": 0,
             "ticks": ""
            },
            "colorscale": [
             [
              0,
              "#0d0887"
             ],
             [
              0.1111111111111111,
              "#46039f"
             ],
             [
              0.2222222222222222,
              "#7201a8"
             ],
             [
              0.3333333333333333,
              "#9c179e"
             ],
             [
              0.4444444444444444,
              "#bd3786"
             ],
             [
              0.5555555555555556,
              "#d8576b"
             ],
             [
              0.6666666666666666,
              "#ed7953"
             ],
             [
              0.7777777777777778,
              "#fb9f3a"
             ],
             [
              0.8888888888888888,
              "#fdca26"
             ],
             [
              1,
              "#f0f921"
             ]
            ],
            "type": "surface"
           }
          ],
          "table": [
           {
            "cells": {
             "fill": {
              "color": "#EBF0F8"
             },
             "line": {
              "color": "white"
             }
            },
            "header": {
             "fill": {
              "color": "#C8D4E3"
             },
             "line": {
              "color": "white"
             }
            },
            "type": "table"
           }
          ]
         },
         "layout": {
          "annotationdefaults": {
           "arrowcolor": "#2a3f5f",
           "arrowhead": 0,
           "arrowwidth": 1
          },
          "autotypenumbers": "strict",
          "coloraxis": {
           "colorbar": {
            "outlinewidth": 0,
            "ticks": ""
           }
          },
          "colorscale": {
           "diverging": [
            [
             0,
             "#8e0152"
            ],
            [
             0.1,
             "#c51b7d"
            ],
            [
             0.2,
             "#de77ae"
            ],
            [
             0.3,
             "#f1b6da"
            ],
            [
             0.4,
             "#fde0ef"
            ],
            [
             0.5,
             "#f7f7f7"
            ],
            [
             0.6,
             "#e6f5d0"
            ],
            [
             0.7,
             "#b8e186"
            ],
            [
             0.8,
             "#7fbc41"
            ],
            [
             0.9,
             "#4d9221"
            ],
            [
             1,
             "#276419"
            ]
           ],
           "sequential": [
            [
             0,
             "#0d0887"
            ],
            [
             0.1111111111111111,
             "#46039f"
            ],
            [
             0.2222222222222222,
             "#7201a8"
            ],
            [
             0.3333333333333333,
             "#9c179e"
            ],
            [
             0.4444444444444444,
             "#bd3786"
            ],
            [
             0.5555555555555556,
             "#d8576b"
            ],
            [
             0.6666666666666666,
             "#ed7953"
            ],
            [
             0.7777777777777778,
             "#fb9f3a"
            ],
            [
             0.8888888888888888,
             "#fdca26"
            ],
            [
             1,
             "#f0f921"
            ]
           ],
           "sequentialminus": [
            [
             0,
             "#0d0887"
            ],
            [
             0.1111111111111111,
             "#46039f"
            ],
            [
             0.2222222222222222,
             "#7201a8"
            ],
            [
             0.3333333333333333,
             "#9c179e"
            ],
            [
             0.4444444444444444,
             "#bd3786"
            ],
            [
             0.5555555555555556,
             "#d8576b"
            ],
            [
             0.6666666666666666,
             "#ed7953"
            ],
            [
             0.7777777777777778,
             "#fb9f3a"
            ],
            [
             0.8888888888888888,
             "#fdca26"
            ],
            [
             1,
             "#f0f921"
            ]
           ]
          },
          "colorway": [
           "#636efa",
           "#EF553B",
           "#00cc96",
           "#ab63fa",
           "#FFA15A",
           "#19d3f3",
           "#FF6692",
           "#B6E880",
           "#FF97FF",
           "#FECB52"
          ],
          "font": {
           "color": "#2a3f5f"
          },
          "geo": {
           "bgcolor": "white",
           "lakecolor": "white",
           "landcolor": "#E5ECF6",
           "showlakes": true,
           "showland": true,
           "subunitcolor": "white"
          },
          "hoverlabel": {
           "align": "left"
          },
          "hovermode": "closest",
          "mapbox": {
           "style": "light"
          },
          "paper_bgcolor": "white",
          "plot_bgcolor": "#E5ECF6",
          "polar": {
           "angularaxis": {
            "gridcolor": "white",
            "linecolor": "white",
            "ticks": ""
           },
           "bgcolor": "#E5ECF6",
           "radialaxis": {
            "gridcolor": "white",
            "linecolor": "white",
            "ticks": ""
           }
          },
          "scene": {
           "xaxis": {
            "backgroundcolor": "#E5ECF6",
            "gridcolor": "white",
            "gridwidth": 2,
            "linecolor": "white",
            "showbackground": true,
            "ticks": "",
            "zerolinecolor": "white"
           },
           "yaxis": {
            "backgroundcolor": "#E5ECF6",
            "gridcolor": "white",
            "gridwidth": 2,
            "linecolor": "white",
            "showbackground": true,
            "ticks": "",
            "zerolinecolor": "white"
           },
           "zaxis": {
            "backgroundcolor": "#E5ECF6",
            "gridcolor": "white",
            "gridwidth": 2,
            "linecolor": "white",
            "showbackground": true,
            "ticks": "",
            "zerolinecolor": "white"
           }
          },
          "shapedefaults": {
           "line": {
            "color": "#2a3f5f"
           }
          },
          "ternary": {
           "aaxis": {
            "gridcolor": "white",
            "linecolor": "white",
            "ticks": ""
           },
           "baxis": {
            "gridcolor": "white",
            "linecolor": "white",
            "ticks": ""
           },
           "bgcolor": "#E5ECF6",
           "caxis": {
            "gridcolor": "white",
            "linecolor": "white",
            "ticks": ""
           }
          },
          "title": {
           "x": 0.05
          },
          "xaxis": {
           "automargin": true,
           "gridcolor": "white",
           "linecolor": "white",
           "ticks": "",
           "title": {
            "standoff": 15
           },
           "zerolinecolor": "white",
           "zerolinewidth": 2
          },
          "yaxis": {
           "automargin": true,
           "gridcolor": "white",
           "linecolor": "white",
           "ticks": "",
           "title": {
            "standoff": 15
           },
           "zerolinecolor": "white",
           "zerolinewidth": 2
          }
         }
        },
        "title": {
         "text": "Team Points Stats"
        },
        "xaxis": {
         "title": {
          "text": "PTS"
         }
        },
        "yaxis": {
         "title": {
          "text": "PTS-"
         }
        }
       }
      }
     },
     "metadata": {},
     "output_type": "display_data"
    }
   ],
   "source": [
    "# Define the team to highlight in red\n",
    "team_to_highlight = 'WAS'\n",
    "\n",
    "# Create the scatter plot\n",
    "fig = go.Figure()\n",
    "\n",
    "# Plot all teams in blue\n",
    "fig.add_trace(go.Scatter(\n",
    "    x=team.loc[team['Team'] != team_to_highlight, 'PTS'],\n",
    "    y=team.loc[team['Team'] != team_to_highlight, 'PTS-'],\n",
    "    mode='markers',\n",
    "    marker=dict(color='blue'),\n",
    "    text=team.loc[team['Team'] != team_to_highlight, 'Team'],\n",
    "    name='Other Teams'\n",
    "))\n",
    "\n",
    "# Plot the selected team in red\n",
    "fig.add_trace(go.Scatter(\n",
    "    x=team.loc[team['Team'] == team_to_highlight, 'PTS'],\n",
    "    y=team.loc[team['Team'] == team_to_highlight, 'PTS-'],\n",
    "    mode='markers',\n",
    "    marker=dict(color='red'),\n",
    "    text=team.loc[team['Team'] == team_to_highlight, 'Team'],\n",
    "    name=team_to_highlight\n",
    "))\n",
    "\n",
    "# Set layout\n",
    "fig.update_layout(\n",
    "    title='Team Points Stats',\n",
    "    xaxis=dict(title='PTS'),\n",
    "    yaxis=dict(title='PTS-'),\n",
    "    hovermode='closest'\n",
    ")\n",
    "\n",
    "fig.show()\n",
    "\n"
   ]
  }
 ],
 "metadata": {
  "kernelspec": {
   "display_name": "base",
   "language": "python",
   "name": "python3"
  },
  "language_info": {
   "codemirror_mode": {
    "name": "ipython",
    "version": 3
   },
   "file_extension": ".py",
   "mimetype": "text/x-python",
   "name": "python",
   "nbconvert_exporter": "python",
   "pygments_lexer": "ipython3",
   "version": "3.11.5"
  }
 },
 "nbformat": 4,
 "nbformat_minor": 2
}
